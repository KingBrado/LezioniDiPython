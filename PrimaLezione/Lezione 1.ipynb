{
 "cells": [
  {
   "cell_type": "markdown",
   "metadata": {},
   "source": [
    "# Prima Lezione (29/09/2020)"
   ]
  },
  {
   "cell_type": "markdown",
   "metadata": {},
   "source": [
    "### Variabili\n",
    "\n",
    "I seguenti sono i tipi base di Python"
   ]
  },
  {
   "cell_type": "code",
   "execution_count": 2,
   "metadata": {},
   "outputs": [
    {
     "name": "stdout",
     "output_type": "stream",
     "text": [
      "5 0.1 Davide True\n"
     ]
    }
   ],
   "source": [
    "a = 5 # Intero (con o senza segno)\n",
    "x = 0.1 # Decimale a punto variabile (anche fluttuante) detto float\n",
    "s = \"Davide\" # Stringa\n",
    "b = True # Booleano, assume valori True o False (Iniziali maiuscole)\n",
    "print(a, x, s, b)"
   ]
  },
  {
   "cell_type": "markdown",
   "metadata": {},
   "source": [
    "Python assegna variabili ad altre variabili \"per referenza\"; la memoria di una variabile inizializzata da un'altra è la stessa, come si vede dal loro id"
   ]
  },
  {
   "cell_type": "code",
   "execution_count": 3,
   "metadata": {},
   "outputs": [
    {
     "name": "stdout",
     "output_type": "stream",
     "text": [
      "10914624 10914624\n"
     ]
    }
   ],
   "source": [
    "c = a\n",
    "print(id(a), id(c))"
   ]
  },
  {
   "cell_type": "markdown",
   "metadata": {},
   "source": [
    "Questo non è più vero dopo aver cambiato il valore di una delle due variabili, perché i tipi base sono \"immutevoli\" (immutable)"
   ]
  },
  {
   "cell_type": "code",
   "execution_count": 4,
   "metadata": {},
   "outputs": [
    {
     "name": "stdout",
     "output_type": "stream",
     "text": [
      "10914624 10914560\n"
     ]
    }
   ],
   "source": [
    "c = 3\n",
    "print(id(a), id(c))"
   ]
  },
  {
   "cell_type": "markdown",
   "metadata": {},
   "source": [
    "### Liste, dizionari, tuples"
   ]
  },
  {
   "cell_type": "markdown",
   "metadata": {},
   "source": [
    "Un tipo di variabile \"mutevole\" molto usato è la lista (parentesi quadre), che permette di mantenere una collezione di valori di vario tipo, e può essere modificato dopo essere stato inizializzato."
   ]
  },
  {
   "cell_type": "code",
   "execution_count": 14,
   "metadata": {},
   "outputs": [
    {
     "name": "stdout",
     "output_type": "stream",
     "text": [
      "Lista prima della modifica: [19, 3, 's', 0.5, True]\n",
      "Lista dopo \"append\": [19, 3, 's', 0.5, True, 'c']\n",
      "Lista dopo \"remove\": [19, 's', 0.5, True, 'c']\n",
      "Lista dopo \"pop\": ['s', 0.5, True, 'c'], ed elemento estratto: 19\n",
      "Lista dopo \"del\": ['s', 0.5, 'c']\n"
     ]
    }
   ],
   "source": [
    "lista = [19, 3, 's', 0.5, True]\n",
    "print(f'Lista prima della modifica: {lista}')\n",
    "lista.append('c')\n",
    "print(f'Lista dopo \"append\": {lista}')\n",
    "lista.remove(3)\n",
    "print(f'Lista dopo \"remove\": {lista}')\n",
    "elemento = lista.pop(0)\n",
    "print(f'Lista dopo \"pop\": {lista}, ed elemento estratto: {elemento}')\n",
    "del lista[2]\n",
    "print(f'Lista dopo \"del\": {lista}')"
   ]
  },
  {
   "cell_type": "markdown",
   "metadata": {},
   "source": [
    "Liste parziali di una lista possono essere estratte con una \"slice\" di indici"
   ]
  },
  {
   "cell_type": "code",
   "execution_count": 15,
   "metadata": {},
   "outputs": [
    {
     "name": "stdout",
     "output_type": "stream",
     "text": [
      "4\n",
      "[3, 4]\n",
      "[2, 3, 4]\n",
      "[3, 4, 5]\n",
      "5\n",
      "[2, 3, 4]\n"
     ]
    }
   ],
   "source": [
    "lista = [2, 3, 4, 5]\n",
    "print(len(lista)) # Lungezza della lista (numero di elementi presenti)\n",
    "print(lista[1:3]) # Estrae gli elementi dall'indice 1 (incluso) all'indice 3 (escluso)\n",
    "print(lista[:3]) # Estrae gli elementi dall'inizio della lista fino all'indice 3 (escluso)\n",
    "print(lista[1:]) # Estrae gli elementi dall'indice 1 (incluso) alla fine della lista\n",
    "print(lista[-1]) # Estrae l'ultimo elemento della lista, di indice len(lista)-1\n",
    "print(lista[:-1]) # Estrae tutti gli elementi della lista fino all'ultimo, escluso "
   ]
  },
  {
   "cell_type": "markdown",
   "metadata": {},
   "source": [
    "Essendo mutevoli, le liste sono assegnate per riferimento, e modificare una lista assegnata a un'altra modifica entrambe"
   ]
  },
  {
   "cell_type": "code",
   "execution_count": 16,
   "metadata": {},
   "outputs": [
    {
     "name": "stdout",
     "output_type": "stream",
     "text": [
      "[2, 3, 4, 5, 7]\n"
     ]
    }
   ],
   "source": [
    "lista_1 = [2, 3, 4, 5]\n",
    "lista_2 = lista_1\n",
    "lista_2.append(7)\n",
    "print(lista_1)"
   ]
  },
  {
   "cell_type": "markdown",
   "metadata": {},
   "source": [
    "Per evitare ciò, bisogna copiare tutti gli elementi di una lista in un'altra, non assegnare la lista stessa"
   ]
  },
  {
   "cell_type": "code",
   "execution_count": 17,
   "metadata": {},
   "outputs": [
    {
     "name": "stdout",
     "output_type": "stream",
     "text": [
      "[2, 3, 4, 5, 7]\n",
      "[2, 3, 4, 5, 7, 13]\n"
     ]
    }
   ],
   "source": [
    "lista_2 = lista_1[:]\n",
    "lista_2.append(13)\n",
    "print(lista_1)\n",
    "print(lista_2)"
   ]
  },
  {
   "cell_type": "markdown",
   "metadata": {},
   "source": [
    "Si possono creare delle liste di indici con il \"generatore\" range"
   ]
  },
  {
   "cell_type": "code",
   "execution_count": 18,
   "metadata": {},
   "outputs": [
    {
     "name": "stdout",
     "output_type": "stream",
     "text": [
      "[0, 1, 2, 3, 4, 5, 6, 7, 8, 9]\n",
      "[5, 6, 7, 8, 9]\n",
      "[5, 7, 9]\n"
     ]
    }
   ],
   "source": [
    "lista_indici = list(range(10)) # Crea una lista di numeri da 0 a 10, 10 escluso\n",
    "print(lista_indici)\n",
    "lista_indici = list(range(5, 10)) # Crea una lista di numeri da 5 a 10, 10 escluso\n",
    "print(lista_indici)\n",
    "lista_indici = list(range(5, 10, 2)) # Crea una lista di numeri da 5 a 10 a intervalli di 2\n",
    "print(lista_indici)"
   ]
  },
  {
   "cell_type": "markdown",
   "metadata": {},
   "source": [
    "Il corrispondente immutevole di una lista è una tuple (parentesi tonde)"
   ]
  },
  {
   "cell_type": "code",
   "execution_count": 19,
   "metadata": {},
   "outputs": [],
   "source": [
    "t = (1, 2, 3)"
   ]
  },
  {
   "cell_type": "markdown",
   "metadata": {},
   "source": [
    "Assegnare a una tuple non è possibile"
   ]
  },
  {
   "cell_type": "code",
   "execution_count": 20,
   "metadata": {},
   "outputs": [
    {
     "ename": "TypeError",
     "evalue": "'tuple' object does not support item assignment",
     "output_type": "error",
     "traceback": [
      "\u001b[0;31m---------------------------------------------------------------------------\u001b[0m",
      "\u001b[0;31mTypeError\u001b[0m                                 Traceback (most recent call last)",
      "\u001b[0;32m<ipython-input-20-08a0409f2124>\u001b[0m in \u001b[0;36m<module>\u001b[0;34m\u001b[0m\n\u001b[0;32m----> 1\u001b[0;31m \u001b[0mt\u001b[0m\u001b[0;34m[\u001b[0m\u001b[0;36m0\u001b[0m\u001b[0;34m]\u001b[0m \u001b[0;34m=\u001b[0m \u001b[0;36m4\u001b[0m\u001b[0;34m\u001b[0m\u001b[0;34m\u001b[0m\u001b[0m\n\u001b[0m",
      "\u001b[0;31mTypeError\u001b[0m: 'tuple' object does not support item assignment"
     ]
    }
   ],
   "source": [
    "t[0] = 4"
   ]
  },
  {
   "cell_type": "markdown",
   "metadata": {},
   "source": [
    "Gli elementi di una lista si possono accedere solo con indici interi, che vanno sempre da 0 a len(lista) - 1. Per avere più flessibilità, esistono i dizionari (parentesi graffe)."
   ]
  },
  {
   "cell_type": "code",
   "execution_count": 26,
   "metadata": {},
   "outputs": [
    {
     "name": "stdout",
     "output_type": "stream",
     "text": [
      "30\n"
     ]
    }
   ],
   "source": [
    "diz = {'davide': 30, 'berardo': 33, 'nadja': 30}\n",
    "print(diz['davide'])"
   ]
  },
  {
   "cell_type": "markdown",
   "metadata": {},
   "source": [
    "Modificare un dizionario è possibile usando update e del"
   ]
  },
  {
   "cell_type": "code",
   "execution_count": 27,
   "metadata": {},
   "outputs": [
    {
     "name": "stdout",
     "output_type": "stream",
     "text": [
      "{'davide': 30, 'nadja': 30, 'fabiola': 30}\n"
     ]
    }
   ],
   "source": [
    "diz.update({'fabiola': 30})\n",
    "del diz['berardo']\n",
    "print(diz)"
   ]
  },
  {
   "cell_type": "markdown",
   "metadata": {},
   "source": [
    "### Condizioni (if/elif/else)"
   ]
  },
  {
   "cell_type": "markdown",
   "metadata": {},
   "source": [
    "Ogni linguaggio di programmazione ha bisogno di controllare il flusso del programma basandosi su la soddisfazione o meno di condizioni. "
   ]
  },
  {
   "cell_type": "code",
   "execution_count": 57,
   "metadata": {},
   "outputs": [
    {
     "name": "stdout",
     "output_type": "stream",
     "text": [
      "x è maggiore di 0\n"
     ]
    }
   ],
   "source": [
    "x = 1\n",
    "if x > 0:\n",
    "    print('x è maggiore di 0')"
   ]
  },
  {
   "cell_type": "markdown",
   "metadata": {},
   "source": [
    "La condizione `if` richiede una proposizione che si può ridurre a una logica `False`/`True`. I principali operatori che restituiscono valori booleani sono `>`, `<`, `>=`, `<=`, `==`, `!=`, `in`, `is`, `not`, `or` e `and`. I primi 5 sono abbastanza intuitivi:"
   ]
  },
  {
   "cell_type": "code",
   "execution_count": 58,
   "metadata": {},
   "outputs": [
    {
     "name": "stdout",
     "output_type": "stream",
     "text": [
      "x è minore di 10\n",
      "x è uguale a 7\n"
     ]
    }
   ],
   "source": [
    "x = 7\n",
    "if x < 10:\n",
    "    print('x è minore di 10')\n",
    "if x == 7:\n",
    "    print('x è uguale a 7')"
   ]
  },
  {
   "cell_type": "markdown",
   "metadata": {},
   "source": [
    "`!=` è il contrario di `==`"
   ]
  },
  {
   "cell_type": "code",
   "execution_count": 59,
   "metadata": {},
   "outputs": [
    {
     "name": "stdout",
     "output_type": "stream",
     "text": [
      "x non è uguale a 8\n"
     ]
    }
   ],
   "source": [
    "if x != 8:\n",
    "    print('x non è uguale a 8')"
   ]
  },
  {
   "cell_type": "markdown",
   "metadata": {},
   "source": [
    "`is` è simile a == ma richiede che un valore sia un altro, non semplicemente equivalente. L'esempio mostra la differenza"
   ]
  },
  {
   "cell_type": "code",
   "execution_count": 63,
   "metadata": {},
   "outputs": [
    {
     "name": "stdout",
     "output_type": "stream",
     "text": [
      "x è 7\n"
     ]
    }
   ],
   "source": [
    "if x is 7:\n",
    "    print('x è 7')\n",
    "if x is 7.0:\n",
    "    print('x è 7.0')"
   ]
  },
  {
   "cell_type": "markdown",
   "metadata": {},
   "source": [
    "Il primo `print` viene eseguito perché `x` è il numero intero 7, il secondo no perché `x` non è un numero decimale."
   ]
  },
  {
   "cell_type": "markdown",
   "metadata": {},
   "source": [
    "`in` controlla se un valore è contenuto all'interno di una collezione. Funziona con liste, dizionari e stringhe, come negli esempi:"
   ]
  },
  {
   "cell_type": "code",
   "execution_count": 65,
   "metadata": {},
   "outputs": [
    {
     "name": "stdout",
     "output_type": "stream",
     "text": [
      "10 è contenuto nella lista\n",
      "d contiene la chiave \"a\"\n",
      "davide contiene una v\n"
     ]
    }
   ],
   "source": [
    "l = [10, 12, 26, 19]\n",
    "if 10 in l:\n",
    "    print('10 è contenuto nella lista')\n",
    "    \n",
    "d = {'a': 1, 'b': 15, 'c': 19}\n",
    "if 'a' in d:\n",
    "    print('d contiene la chiave \"a\"')\n",
    "    \n",
    "s = 'davide'\n",
    "if 'v' in s:\n",
    "    print('davide contiene una v')"
   ]
  },
  {
   "cell_type": "markdown",
   "metadata": {},
   "source": [
    "Nota che `in` agisce sulle chiave di un dizionario, non sui valori. Inoltre, internamente, un `in` deve controllare ogni elemento di una lista, stringa o dizionario, rendendo l'operazione inefficiente per collezioni grandi."
   ]
  },
  {
   "cell_type": "markdown",
   "metadata": {},
   "source": [
    "`not` nega una condizione logica"
   ]
  },
  {
   "cell_type": "code",
   "execution_count": 68,
   "metadata": {},
   "outputs": [
    {
     "name": "stdout",
     "output_type": "stream",
     "text": [
      "x non è 6\n",
      "berardo non contiene una v\n"
     ]
    }
   ],
   "source": [
    "x = 5\n",
    "if x is not 6:\n",
    "    print('x non è 6')\n",
    "\n",
    "s = 'berardo'\n",
    "if 'v' not in s:\n",
    "    print('berardo non contiene una v')"
   ]
  },
  {
   "cell_type": "markdown",
   "metadata": {},
   "source": [
    "`and` e `or` servono a concatenare condizioni logiche. Esempio per dire 0 < x < 10 scriviamo:"
   ]
  },
  {
   "cell_type": "code",
   "execution_count": 69,
   "metadata": {},
   "outputs": [
    {
     "name": "stdout",
     "output_type": "stream",
     "text": [
      "x è compreso fra 0 e 10\n"
     ]
    }
   ],
   "source": [
    "if x > 0 and x < 10:\n",
    "    print('x è compreso fra 0 e 10')"
   ]
  },
  {
   "cell_type": "markdown",
   "metadata": {},
   "source": [
    "Mentre per dire che non è compreso, i.e. è minore di 0 oppure maggiore di 10:"
   ]
  },
  {
   "cell_type": "code",
   "execution_count": 70,
   "metadata": {},
   "outputs": [
    {
     "name": "stdout",
     "output_type": "stream",
     "text": [
      "x non è compreso fra 0 e 10\n"
     ]
    }
   ],
   "source": [
    "x = -1\n",
    "if x < 0 or x > 10:\n",
    "    print('x non è compreso fra 0 e 10')"
   ]
  },
  {
   "cell_type": "markdown",
   "metadata": {},
   "source": [
    "Nota 1: Ogni valore può essere ridotto a un valore di verità:"
   ]
  },
  {
   "cell_type": "code",
   "execution_count": 76,
   "metadata": {},
   "outputs": [
    {
     "name": "stdout",
     "output_type": "stream",
     "text": [
      "0 equivale a un valore di False\n",
      "5 equivale a un valore di True\n",
      "La lista è vuota\n",
      "La lista non è vuota\n",
      "x non è definito\n"
     ]
    }
   ],
   "source": [
    "x = 0 # Zero equivale a False\n",
    "if not x:\n",
    "    print('0 equivale a un valore di False')\n",
    "\n",
    "x = 5 # Ogni valore non nullo equivale a True\n",
    "if x:\n",
    "    print('5 equivale a un valore di True')\n",
    "    \n",
    "l = [] # Una lista vuota equivale a False\n",
    "if not l:\n",
    "    print('La lista è vuota')\n",
    "    \n",
    "l = [12] # Una lista non vuota equivale a True\n",
    "if l:\n",
    "    print('La lista non è vuota')\n",
    "    \n",
    "x = None # Il valore speciale None equivale a False.\n",
    "if not x:\n",
    "    print('x non è definito')"
   ]
  },
  {
   "cell_type": "markdown",
   "metadata": {},
   "source": [
    "Nota 2: `or` ed `and` seguono una logica a \"corto-circuito\":\n",
    "\n",
    "* Se la prima condizione di un `or` è vera, la seconda non viene eseguita\n",
    "* Se la prima condizione di un `and` è falsa, la seconda non viene eseguita\n",
    "\n",
    "Questo risulta utile se la prima condizione dipende dalla prima e non dovrebbe essere eseguita se la prima è falsa:"
   ]
  },
  {
   "cell_type": "code",
   "execution_count": 78,
   "metadata": {},
   "outputs": [],
   "source": [
    "l = []\n",
    "\n",
    "if len(l) > 0 and l[0] == 5:\n",
    "    print('Questo non verrà stampato')\n",
    "\n",
    "# usando il valore di verità di una lista vuota\n",
    "\n",
    "if l and l[0] == 5:\n",
    "    print('Anche questo non viene stampato')"
   ]
  },
  {
   "cell_type": "markdown",
   "metadata": {},
   "source": [
    "Se la seconda condizione fosse stata valutata, avremmo un errore di tipo **index out of bound**, perché ovviamente l'indice 0 non esiste. Ma visto che la prima condizione è già falsa (per lo stesso motivo), tutto l'`and` lo è, senza valutare la seconda parte."
   ]
  },
  {
   "cell_type": "markdown",
   "metadata": {},
   "source": [
    "Per ora ho mostrato solo condizioni a un *branch* (i.e. ramo), ma possiamo valutare molteplici alternative usando `elif` (else if) ed `else`"
   ]
  },
  {
   "cell_type": "code",
   "execution_count": 79,
   "metadata": {},
   "outputs": [
    {
     "name": "stdout",
     "output_type": "stream",
     "text": [
      "x è positivo, ma maggiore di 10\n"
     ]
    }
   ],
   "source": [
    "x = 11\n",
    "if x > 0 and x < 10:\n",
    "    print('x è compreso fra 0 e 10')\n",
    "elif x > 0:\n",
    "    print('x è positivo, ma maggiore di 10')\n",
    "else:\n",
    "    print('x è negativo')"
   ]
  },
  {
   "cell_type": "markdown",
   "metadata": {},
   "source": [
    "Un `if` può essere seguito da un numero arbitrario di `elif`, ma da un solo `else` che racchiude tutte le possibilità non coperte da precedenti casi."
   ]
  },
  {
   "cell_type": "markdown",
   "metadata": {},
   "source": [
    "# Cicli `for` e `while`"
   ]
  },
  {
   "cell_type": "markdown",
   "metadata": {},
   "source": [
    "Un programma generalmente richiede una serie di istruzioni e spesso queste istruzioni sono ripetute finché soddisfano una condizione. Ad esempio verificare che un numero $n$ sia primo e, quindi, cercare di dividere per tutti i numeri $m<\\frac{n}{2}$ finché i numeri *non* dividono $n$."
   ]
  },
  {
   "cell_type": "code",
   "execution_count": 7,
   "metadata": {},
   "outputs": [
    {
     "name": "stdout",
     "output_type": "stream",
     "text": [
      "35 è divisibile per 5\n"
     ]
    }
   ],
   "source": [
    "n = 35\n",
    "m = 2\n",
    "while m <= n/2 and n % m != 0:\n",
    "    m += 1\n",
    "if m > n / 2:\n",
    "    print(f\"{n} è primo\")\n",
    "else:\n",
    "    print(f\"{n} è divisibile per {m}\")"
   ]
  },
  {
   "cell_type": "markdown",
   "metadata": {},
   "source": [
    "Nell'esempio, cerchiamo il primo numero che divide `n`, a partire da `m=2` (1 divide tutti i numeri). Come nell'`if`, abbiamo una condizione booleana che deve essere `True` affinché entriamo nello *scope* (contesto) del `while`. La condizione in questo caso specifico controlla che $m\\leq\\frac{n}{2}$, che serve come *guardia* per avere una condizione di **STOP**. Se non ci fosse e continuassimo a incrementare `m` di 1 all'interno del blocco, il `while` non smetterebbe di eseguire le istruzioni, entrando in un loop infinito. \n",
    "La seconda condizione è la più rilevante: controlliamo che `n` non sia divisibile per `m`. Se lo fosse avremmo trovato un divisore e `n` non sarebbe primo."
   ]
  },
  {
   "cell_type": "markdown",
   "metadata": {},
   "source": [
    "Cerchiamo di seguire il flusso del `while`: \n",
    "\n",
    "- Alla prima iterazione, `m = 2`, `2 <= 17.5` e `35 % 2 = 1` (35 diviso 2 dà resto 1). Entriamo nel `while` perchè la condizione è vera ed `m` incrementa di 1.\n",
    "- Alla seconda iterazione `m = 3`, `3 <= 17.5`, e `35 % 3 = 2`. Entriamo nuovamente nel `while` ed `m` incrementa ancora.\n",
    "- Alla terza iterazione `m = 4`, `4 <= 17.5` e `35 % 4 = 3`. Entriamo un'ultima volta nel `while` ed `m` diventa 5.\n",
    "- Alla quarta iterazione `m = 5`, `5 <= 17.5` e `35 % 5 = 0`. La seconda condizione del `and` è `False`, dunque la condizione è `False` e il `while` si interrompe.\n",
    "\n",
    "A questo punto `m = 5`, quindi la condizione dell'`if` successivo è `False` (`m` non è maggiore di 17.5), e stampiamo la stringa corrispondente all'`else`."
   ]
  },
  {
   "cell_type": "markdown",
   "metadata": {},
   "source": [
    "Riproviamo con un numero primo:"
   ]
  },
  {
   "cell_type": "code",
   "execution_count": 8,
   "metadata": {},
   "outputs": [
    {
     "name": "stdout",
     "output_type": "stream",
     "text": [
      "17 è primo\n"
     ]
    }
   ],
   "source": [
    "n = 17\n",
    "m = 2\n",
    "while m <= n/2 and n % m != 0:\n",
    "    m += 1\n",
    "if m > n / 2:\n",
    "    print(f\"{n} è primo\")\n",
    "else:\n",
    "    print(f\"{n} è divisibile per {m}\")"
   ]
  },
  {
   "cell_type": "markdown",
   "metadata": {},
   "source": [
    "Ripercorrendo gli stessi passi di prima, ci accorgeremmo che la seconda condizione dell'`and` è sempre `True` perchè 17 è divisibile solo per 1 e se stesso. Ma il `while` si ferma prima, considerando che quando `m=9`, la prima condizione vale `9<=8.5` che ovviamente è `False`. A questo punto si ferma il `while` e arriviamo all'`if`. Considerando che stavolta `9>8.5`, entriamo nell'`if` e stampiamo la string corrispondente."
   ]
  },
  {
   "cell_type": "markdown",
   "metadata": {},
   "source": [
    "Una maniera alternativa di scrivere il `while` consistente nello sfruttare l'istruzione `break`:"
   ]
  },
  {
   "cell_type": "code",
   "execution_count": 13,
   "metadata": {},
   "outputs": [
    {
     "name": "stdout",
     "output_type": "stream",
     "text": [
      "35 è divisibile per 5\n"
     ]
    }
   ],
   "source": [
    "n = 35\n",
    "m = 2\n",
    "while m <= n/2:\n",
    "    if n % m == 0:\n",
    "        break\n",
    "    m += 1\n",
    "if m > n / 2:\n",
    "    print(f\"{n} è primo\")\n",
    "else:\n",
    "    print(f\"{n} è divisibile per {m}\")"
   ]
  },
  {
   "cell_type": "markdown",
   "metadata": {},
   "source": [
    "In questo esempio, partiamo sempre da `m = 2` e iteriamo finché `m <= 17.5`. Stavolta però nella condizione del `while` non c'è altro. All'interno del blocco del `while`, però, controlliamo la divisibilità di `n` per `m`. Se la condizione dell'`if` è vera, invochiamo `break`, che interrompe il ciclo. Se `n` non è divisibile per `m`, ignoriamo l'`if` e incrementiamo `m`.  "
   ]
  },
  {
   "cell_type": "markdown",
   "metadata": {},
   "source": [
    "Eseguire una serie di iterazioni con un intero che aumenta di uno finché non raggiungiamo un valore massimo è un'operazione talmente comune nella programmazione che esiste un'istruzione specifica: il `for`. Un `for` ripete un certo numero di iterazione su una serie di elementi. Prendiamo una lista per esempio:"
   ]
  },
  {
   "cell_type": "code",
   "execution_count": 15,
   "metadata": {},
   "outputs": [
    {
     "name": "stdout",
     "output_type": "stream",
     "text": [
      "[8, 10, 6, 178, 6]\n"
     ]
    }
   ],
   "source": [
    "lista = [4, 5, 3, 89, 3]\n",
    "risultato = []\n",
    "for elemento in lista:\n",
    "    risultato.append(elemento*2)\n",
    "print(risultato)"
   ]
  },
  {
   "cell_type": "markdown",
   "metadata": {},
   "source": [
    "Come si vede dal risultato, abbiamo preso ogni elemento di `lista` e lo abbiamo moltiplicato per 2. "
   ]
  },
  {
   "cell_type": "markdown",
   "metadata": {},
   "source": [
    "Questo ci permette di riscrivere il codice sui numeri primi in maniera più compatta, ricordandoci il generatore `range`"
   ]
  },
  {
   "cell_type": "code",
   "execution_count": 21,
   "metadata": {},
   "outputs": [
    {
     "name": "stdout",
     "output_type": "stream",
     "text": [
      "35 è divisibile per 5\n"
     ]
    }
   ],
   "source": [
    "n = 35\n",
    "for m in range(2, n//2 + 1):\n",
    "    if n % m == 0:\n",
    "        break\n",
    "if m == n // 2:\n",
    "    print(f\"{n} è primo\")\n",
    "else:\n",
    "    print(f\"{n} è divisibile per {m}\")"
   ]
  },
  {
   "cell_type": "markdown",
   "metadata": {},
   "source": [
    "Ovviamente il risultato è lo stesso, ma questa volta non iteriamo su `m` (non sommiamo `m+=1`) perché il `for` lo fa per noi. Il generatore range crea una sequenza da 2 (incluso) a 18 (**escluso**). Quando il `for` finisce senza invocare il `break` (numero primo), `m` avrà l'ultimo valore assegnato nella sequenza. Nell'esempio con 17:"
   ]
  },
  {
   "cell_type": "code",
   "execution_count": 23,
   "metadata": {},
   "outputs": [
    {
     "name": "stdout",
     "output_type": "stream",
     "text": [
      "17 è primo\n"
     ]
    }
   ],
   "source": [
    "n = 17\n",
    "for m in range(2, n//2 + 1):\n",
    "    if n % m == 0:\n",
    "        break\n",
    "if m == n // 2:\n",
    "    print(f\"{n} è primo\")\n",
    "else:\n",
    "    print(f\"{n} è divisibile per {m}\")"
   ]
  },
  {
   "cell_type": "markdown",
   "metadata": {},
   "source": [
    "In Python è possibile attaccare una condizione `else` a un `for` come nell'esempio:"
   ]
  },
  {
   "cell_type": "code",
   "execution_count": 26,
   "metadata": {},
   "outputs": [
    {
     "name": "stdout",
     "output_type": "stream",
     "text": [
      "35 è divisibile per 5\n",
      "17 è primo\n"
     ]
    }
   ],
   "source": [
    "# Numero non primo\n",
    "n = 35\n",
    "for m in range(2, n//2 + 1):\n",
    "    if n % m == 0:\n",
    "        print(f\"{n} è divisibile per {m}\")\n",
    "        break\n",
    "else:\n",
    "    print(f\"{n} è primo\") \n",
    "\n",
    "# Numero primo\n",
    "n = 17\n",
    "for m in range(2, n//2 + 1):\n",
    "    if n % m == 0:\n",
    "        print(f\"{n} è divisibile per {m}\")\n",
    "        break\n",
    "else:\n",
    "    print(f\"{n} è primo\")  "
   ]
  },
  {
   "cell_type": "markdown",
   "metadata": {},
   "source": [
    "Questo concetto, assente in molti altri linguaggi, è stato introdotto perché è un *pattern* (schema) molto comune: eseguire un certo numero di iterazioni finché non si avvera una condizione all'interno del `for` che invoca `break`. Alla fine del `for` si controlla se `break` è stato invocato (condizione dell'`if` è `True` almeno una volta) o no (l'`if` è `False` per ogni elemento nella sequenza). Nel secondo caso, entriamo nell'`else`.  "
   ]
  },
  {
   "cell_type": "markdown",
   "metadata": {},
   "source": [
    "In pratica, le situazioni in cui si usa un `for` sono molto più comuni che le situazioni in cui si usa un `while`, e si tende a usare il primo ciclo per la sintassi più succinta. "
   ]
  },
  {
   "cell_type": "markdown",
   "metadata": {},
   "source": [
    "Un paio di aggiunte sull'uso del `for`; il generatore `enumerate` permette di ottenere l'indice di ogni elemento in una lista, oltre all'elemento stesso. L'esempio della lista mostrato prima può essere riscritto come:"
   ]
  },
  {
   "cell_type": "code",
   "execution_count": 27,
   "metadata": {},
   "outputs": [
    {
     "name": "stdout",
     "output_type": "stream",
     "text": [
      "[8, 10, 6, 178, 6]\n"
     ]
    }
   ],
   "source": [
    "lista = [4, 5, 3, 89, 3]\n",
    "for indice, elemento in enumerate(lista):\n",
    "    lista[indice] = elemento * 2\n",
    "print(lista)"
   ]
  },
  {
   "cell_type": "markdown",
   "metadata": {},
   "source": [
    "Oltre a una sintassi più succinta, abbiamo usato la metà della memoria, perché non abbiamo creato una seconda lista. Inoltre, cambiare il valore assegnato a un'indice in una lista è un'operazione generalmente meno costosa che appendere ad una lista, visto che quest'ultima richiede all'interprete ulteriore memoria. L'unica cosa da tenere a mente è che in questo caso la lista originale è stata sovrascritta. "
   ]
  },
  {
   "cell_type": "markdown",
   "metadata": {},
   "source": [
    "Un'altra osservazione riguarda i dizionari."
   ]
  },
  {
   "cell_type": "code",
   "execution_count": 28,
   "metadata": {},
   "outputs": [
    {
     "name": "stdout",
     "output_type": "stream",
     "text": [
      "berardo\n",
      "davide\n",
      "nadja\n",
      "fabiola\n"
     ]
    }
   ],
   "source": [
    "dizionario = {'berardo': 33, 'davide': 30, 'nadja': 30, 'fabiola': 30}\n",
    "for chiave in dizionario:\n",
    "    print(chiave)"
   ]
  },
  {
   "cell_type": "markdown",
   "metadata": {},
   "source": [
    "Come si vede dal risultato, quando si itera su un dizionario, gli elementi selezionati ad ogni iterazione sono soltanto le chiavi. Per stampare anche i valori, bisognerebbe accedere al valore del dizionario a quell'indice:"
   ]
  },
  {
   "cell_type": "code",
   "execution_count": 29,
   "metadata": {},
   "outputs": [
    {
     "name": "stdout",
     "output_type": "stream",
     "text": [
      "berardo: 33\n",
      "davide: 30\n",
      "nadja: 30\n",
      "fabiola: 30\n"
     ]
    }
   ],
   "source": [
    "for chiave in dizionario:\n",
    "    print(f\"{chiave}: {dizionario[chiave]}\")"
   ]
  },
  {
   "cell_type": "markdown",
   "metadata": {},
   "source": [
    "In alternativa, Python fornisce metodi per dizionario che permettono di iterare sulle chiavi, sui valori o su entrambi."
   ]
  },
  {
   "cell_type": "code",
   "execution_count": 31,
   "metadata": {},
   "outputs": [
    {
     "name": "stdout",
     "output_type": "stream",
     "text": [
      "berardo\n",
      "davide\n",
      "nadja\n",
      "fabiola\n",
      "\n",
      "33\n",
      "30\n",
      "30\n",
      "30\n",
      "\n",
      "berardo: 33\n",
      "davide: 30\n",
      "nadja: 30\n",
      "fabiola: 30\n"
     ]
    }
   ],
   "source": [
    "for chiave in dizionario.keys(): # Equivale a for chiave in dizionario:\n",
    "    print(chiave)\n",
    "\n",
    "print()\n",
    "for valore in dizionario.values():\n",
    "    print(valore)\n",
    "\n",
    "print()\n",
    "for chiave, valore in dizionario.items():\n",
    "    print(f\"{chiave}: {valore}\")"
   ]
  },
  {
   "cell_type": "code",
   "execution_count": null,
   "metadata": {},
   "outputs": [],
   "source": []
  }
 ],
 "metadata": {
  "kernelspec": {
   "display_name": "Python 3",
   "language": "python",
   "name": "python3"
  },
  "language_info": {
   "codemirror_mode": {
    "name": "ipython",
    "version": 3
   },
   "file_extension": ".py",
   "mimetype": "text/x-python",
   "name": "python",
   "nbconvert_exporter": "python",
   "pygments_lexer": "ipython3",
   "version": "3.6.9"
  }
 },
 "nbformat": 4,
 "nbformat_minor": 4
}
