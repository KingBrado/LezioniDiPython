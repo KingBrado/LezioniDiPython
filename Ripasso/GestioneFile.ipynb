{
 "cells": [
  {
   "cell_type": "code",
   "execution_count": 2,
   "metadata": {},
   "outputs": [],
   "source": [
    "import os"
   ]
  },
  {
   "cell_type": "code",
   "execution_count": 3,
   "metadata": {},
   "outputs": [
    {
     "data": {
      "text/plain": [
       "['.DS_Store',\n",
       " 'PrimaLezione',\n",
       " 'requirements.txt',\n",
       " 'Untitled.ipynb',\n",
       " 'Biblioteca',\n",
       " 'README.md',\n",
       " 'RetiNeurali',\n",
       " '.gitignore',\n",
       " 'TrasformazioniAffini',\n",
       " '.ipynb_checkpoints',\n",
       " 'venv',\n",
       " 'Funzioni',\n",
       " '.git',\n",
       " 'Derivate.pdf',\n",
       " 'Classi',\n",
       " 'Geometria']"
      ]
     },
     "execution_count": 3,
     "metadata": {},
     "output_type": "execute_result"
    }
   ],
   "source": [
    "os.listdir('.')"
   ]
  },
  {
   "cell_type": "code",
   "execution_count": 14,
   "metadata": {},
   "outputs": [],
   "source": [
    "file = os.path.join('Classi', 'classi.py')\n",
    "# Meglio di no, è giusto ma sconsigliato\n",
    "buffer = open(file, 'r')\n",
    "lines = buffer.readlines()\n",
    "buffer.close()"
   ]
  },
  {
   "cell_type": "code",
   "execution_count": 15,
   "metadata": {},
   "outputs": [
    {
     "data": {
      "text/plain": [
       "['from datetime import date\\n',\n",
       " '\\n',\n",
       " 'class Persona:\\n',\n",
       " '\\n',\n",
       " '    def __init__(self, name, surname, birth_date):\\n',\n",
       " '        self.nome = name\\n',\n",
       " '        self.cognome = surname\\n',\n",
       " '        self.data_di_nascita = birth_date\\n',\n",
       " '        self.libri = []\\n',\n",
       " '\\n',\n",
       " '    def eta(self):\\n',\n",
       " '        return date.today() - self.data_di_nascita\\n',\n",
       " '\\n',\n",
       " '    def aggiungi_libro(self, libro):\\n',\n",
       " '        if len(self.libri) >= 5:\\n',\n",
       " \"            print('La persona ha raggiunto il limite libri')\\n\",\n",
       " '            return\\n',\n",
       " '        self.libri.append(libro)\\n',\n",
       " '\\n',\n",
       " 'class Libro:\\n',\n",
       " \"    nome = 'Il viaggio del mondo in 80 giorni'\\n\",\n",
       " '\\n',\n",
       " \"x = Persona('Berardo', 'Manzi', date(1987, 5, 10))\\n\",\n",
       " 'print(x.eta())\\n',\n",
       " '\\n',\n",
       " \"y = Persona('Davide', 'D\\\\'Intino', date(1990, 10, 12))\\n\",\n",
       " '\\n',\n",
       " 'print(y.nome)\\n',\n",
       " 'print(x.nome)\\n',\n",
       " '\\n',\n",
       " \"y.aggiungi_libro('Il Signore degli Anelli - versione estesa')\\n\",\n",
       " \"y.aggiungi_libro('Il Signore degli Anelli - versione estesa')\\n\",\n",
       " \"y.aggiungi_libro('Il Signore degli Anelli - versione estesa')\\n\",\n",
       " \"y.aggiungi_libro('Il Signore degli Anelli - versione estesa')\\n\",\n",
       " \"y.aggiungi_libro('Il Signore degli Anelli - versione estesa')\\n\",\n",
       " \"y.aggiungi_libro('Il Signore degli Anelli - versione estesa')\\n\",\n",
       " '\\n',\n",
       " 'print(y.libri)\\n',\n",
       " '# print(dir(Persona))\\n',\n",
       " '# print(dir(Libro))\\n',\n",
       " '# print(dir(5))\\n',\n",
       " '\\n',\n",
       " \"s = 'Davide'\\n\",\n",
       " '\\n',\n",
       " 'print(s.upper())']"
      ]
     },
     "execution_count": 15,
     "metadata": {},
     "output_type": "execute_result"
    }
   ],
   "source": [
    "lines"
   ]
  },
  {
   "cell_type": "code",
   "execution_count": 18,
   "metadata": {},
   "outputs": [],
   "source": [
    "with open(file, 'r') as buffer:\n",
    "    lines = buffer.readlines()"
   ]
  },
  {
   "cell_type": "code",
   "execution_count": 17,
   "metadata": {},
   "outputs": [],
   "source": [
    "file = '/Users/berardomariomanzi/Programming/Python/LezioniDiPython/Classi/classi.py'"
   ]
  },
  {
   "cell_type": "code",
   "execution_count": 21,
   "metadata": {},
   "outputs": [],
   "source": [
    "from sklearn.datasets import load_wine"
   ]
  },
  {
   "cell_type": "code",
   "execution_count": 22,
   "metadata": {},
   "outputs": [],
   "source": [
    "data = load_wine()"
   ]
  },
  {
   "cell_type": "code",
   "execution_count": 30,
   "metadata": {},
   "outputs": [
    {
     "data": {
      "text/plain": [
       "sklearn.utils.Bunch"
      ]
     },
     "execution_count": 30,
     "metadata": {},
     "output_type": "execute_result"
    }
   ],
   "source": [
    "type(data)"
   ]
  },
  {
   "cell_type": "code",
   "execution_count": 31,
   "metadata": {},
   "outputs": [
    {
     "data": {
      "text/plain": [
       "dict_keys(['data', 'target', 'frame', 'target_names', 'DESCR', 'feature_names'])"
      ]
     },
     "execution_count": 31,
     "metadata": {},
     "output_type": "execute_result"
    }
   ],
   "source": [
    "data.keys()"
   ]
  },
  {
   "cell_type": "code",
   "execution_count": 32,
   "metadata": {},
   "outputs": [
    {
     "data": {
      "text/plain": [
       "array([[1.423e+01, 1.710e+00, 2.430e+00, ..., 1.040e+00, 3.920e+00,\n",
       "        1.065e+03],\n",
       "       [1.320e+01, 1.780e+00, 2.140e+00, ..., 1.050e+00, 3.400e+00,\n",
       "        1.050e+03],\n",
       "       [1.316e+01, 2.360e+00, 2.670e+00, ..., 1.030e+00, 3.170e+00,\n",
       "        1.185e+03],\n",
       "       ...,\n",
       "       [1.327e+01, 4.280e+00, 2.260e+00, ..., 5.900e-01, 1.560e+00,\n",
       "        8.350e+02],\n",
       "       [1.317e+01, 2.590e+00, 2.370e+00, ..., 6.000e-01, 1.620e+00,\n",
       "        8.400e+02],\n",
       "       [1.413e+01, 4.100e+00, 2.740e+00, ..., 6.100e-01, 1.600e+00,\n",
       "        5.600e+02]])"
      ]
     },
     "execution_count": 32,
     "metadata": {},
     "output_type": "execute_result"
    }
   ],
   "source": [
    "data['data']"
   ]
  },
  {
   "cell_type": "code",
   "execution_count": 33,
   "metadata": {},
   "outputs": [
    {
     "data": {
      "text/plain": [
       "(178, 13)"
      ]
     },
     "execution_count": 33,
     "metadata": {},
     "output_type": "execute_result"
    }
   ],
   "source": [
    "data['data'].shape"
   ]
  },
  {
   "cell_type": "code",
   "execution_count": 34,
   "metadata": {},
   "outputs": [
    {
     "data": {
      "text/plain": [
       "array(['class_0', 'class_1', 'class_2'], dtype='<U7')"
      ]
     },
     "execution_count": 34,
     "metadata": {},
     "output_type": "execute_result"
    }
   ],
   "source": [
    "data['target_names']"
   ]
  },
  {
   "cell_type": "code",
   "execution_count": 36,
   "metadata": {},
   "outputs": [
    {
     "data": {
      "text/plain": [
       "['alcohol',\n",
       " 'malic_acid',\n",
       " 'ash',\n",
       " 'alcalinity_of_ash',\n",
       " 'magnesium',\n",
       " 'total_phenols',\n",
       " 'flavanoids',\n",
       " 'nonflavanoid_phenols',\n",
       " 'proanthocyanins',\n",
       " 'color_intensity',\n",
       " 'hue',\n",
       " 'od280/od315_of_diluted_wines',\n",
       " 'proline']"
      ]
     },
     "execution_count": 36,
     "metadata": {},
     "output_type": "execute_result"
    }
   ],
   "source": [
    "data['feature_names']"
   ]
  },
  {
   "cell_type": "code",
   "execution_count": 39,
   "metadata": {},
   "outputs": [
    {
     "data": {
      "text/plain": [
       "{0, 1, 2}"
      ]
     },
     "execution_count": 39,
     "metadata": {},
     "output_type": "execute_result"
    }
   ],
   "source": [
    "set(data['target'])"
   ]
  },
  {
   "cell_type": "code",
   "execution_count": null,
   "metadata": {},
   "outputs": [],
   "source": []
  }
 ],
 "metadata": {
  "kernelspec": {
   "display_name": "Python 3",
   "language": "python",
   "name": "python3"
  },
  "language_info": {
   "codemirror_mode": {
    "name": "ipython",
    "version": 3
   },
   "file_extension": ".py",
   "mimetype": "text/x-python",
   "name": "python",
   "nbconvert_exporter": "python",
   "pygments_lexer": "ipython3",
   "version": "3.9.1"
  }
 },
 "nbformat": 4,
 "nbformat_minor": 4
}
