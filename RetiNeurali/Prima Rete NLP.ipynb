{
 "cells": [
  {
   "cell_type": "markdown",
   "metadata": {},
   "source": [
    "# Sentiment Analysis"
   ]
  },
  {
   "cell_type": "markdown",
   "metadata": {},
   "source": [
    "### Supervised Learning"
   ]
  },
  {
   "cell_type": "code",
   "execution_count": 5,
   "metadata": {},
   "outputs": [],
   "source": [
    "# Libreria standard\n",
    "import os\n",
    "import re\n",
    "import string\n",
    "import sys\n",
    "from collections import Counter\n",
    "from time import time\n",
    "from datetime import datetime\n",
    "\n",
    "# Utility\n",
    "from unidecode import unidecode\n",
    "from tqdm import tqdm\n",
    "\n",
    "# Data Science\n",
    "import pandas as pd\n",
    "import numpy as np\n",
    "import matplotlib.pyplot as plt\n",
    "from sklearn.model_selection import train_test_split\n",
    "\n",
    "import torch\n",
    "import torch.nn as nn\n",
    "from torch.utils.tensorboard import SummaryWriter"
   ]
  },
  {
   "cell_type": "code",
   "execution_count": 3,
   "metadata": {},
   "outputs": [],
   "source": [
    "data_path = os.path.join('dati', 'betsentiment-IT-tweets-sentiment-players.csv')\n",
    "dati = pd.read_csv(data_path, encoding='latin-1')"
   ]
  },
  {
   "cell_type": "code",
   "execution_count": 4,
   "metadata": {},
   "outputs": [],
   "source": [
    "def clean_text(text: str):\n",
    "    clean_text = re.sub(r'@[a-z0-9]+\\b', ' ', text.lower())\n",
    "    clean_text = re.sub(r'[^a-zàáèéíìòóùú0-9]', ' ', clean_text)\n",
    "    clean_text = re.sub(r'\\s+', ' ', clean_text).strip()\n",
    "    clean_text = unidecode(clean_text)\n",
    "    return clean_text"
   ]
  },
  {
   "cell_type": "code",
   "execution_count": 5,
   "metadata": {},
   "outputs": [],
   "source": [
    "vocab = {'0': 0}\n",
    "for tweet in dati['tweet_text']:\n",
    "    pulito = clean_text(tweet).split()\n",
    "    for word in pulito:\n",
    "        if word not in vocab:\n",
    "            vocab[word] = len(vocab)"
   ]
  },
  {
   "cell_type": "code",
   "execution_count": 6,
   "metadata": {},
   "outputs": [],
   "source": [
    "clean_texts = [clean_text(tweet) for tweet in dati['tweet_text']]"
   ]
  },
  {
   "cell_type": "code",
   "execution_count": 7,
   "metadata": {},
   "outputs": [],
   "source": [
    "token_text = [[vocab.get(word, 0) for word in text.split()] for text in clean_texts]"
   ]
  },
  {
   "cell_type": "code",
   "execution_count": 8,
   "metadata": {},
   "outputs": [
    {
     "data": {
      "text/plain": [
       "<matplotlib.collections.PathCollection at 0x7fb27eb269a0>"
      ]
     },
     "execution_count": 8,
     "metadata": {},
     "output_type": "execute_result"
    },
    {
     "data": {
      "image/png": "[encoded data removed]",
      "text/plain": [
       "<Figure size 432x288 with 1 Axes>"
      ]
     },
     "metadata": {
      "needs_background": "light"
     },
     "output_type": "display_data"
    }
   ],
   "source": [
    "x = [len(frase) for frase in token_text]\n",
    "counts = Counter(x)\n",
    "plt.scatter(list(counts.keys()), list(counts.values()))"
   ]
  },
  {
   "cell_type": "code",
   "execution_count": 9,
   "metadata": {},
   "outputs": [
    {
     "data": {
      "text/plain": [
       "52.84616033095599"
      ]
     },
     "execution_count": 9,
     "metadata": {},
     "output_type": "execute_result"
    }
   ],
   "source": [
    "np.mean(x) + 3*np.std(x)"
   ]
  },
  {
   "cell_type": "code",
   "execution_count": 10,
   "metadata": {},
   "outputs": [
    {
     "data": {
      "text/plain": [
       "-19.365775564800934"
      ]
     },
     "execution_count": 10,
     "metadata": {},
     "output_type": "execute_result"
    }
   ],
   "source": [
    "np.mean(x) - 3*np.std(x)"
   ]
  },
  {
   "cell_type": "code",
   "execution_count": 19,
   "metadata": {},
   "outputs": [
    {
     "ename": "NameError",
     "evalue": "name 'vocab' is not defined",
     "output_type": "error",
     "traceback": [
      "\u001b[0;31m---------------------------------------------------------------------------\u001b[0m",
      "\u001b[0;31mNameError\u001b[0m                                 Traceback (most recent call last)",
      "\u001b[0;32m<ipython-input-19-28d48adf49c8>\u001b[0m in \u001b[0;36m<module>\u001b[0;34m\u001b[0m\n\u001b[1;32m      1\u001b[0m config = {\n\u001b[0;32m----> 2\u001b[0;31m     \u001b[0;34m'num_emb'\u001b[0m\u001b[0;34m:\u001b[0m \u001b[0mlen\u001b[0m\u001b[0;34m(\u001b[0m\u001b[0mvocab\u001b[0m\u001b[0;34m)\u001b[0m\u001b[0;34m,\u001b[0m\u001b[0;34m\u001b[0m\u001b[0;34m\u001b[0m\u001b[0m\n\u001b[0m\u001b[1;32m      3\u001b[0m     \u001b[0;34m'emb_dim'\u001b[0m\u001b[0;34m:\u001b[0m \u001b[0;36m300\u001b[0m\u001b[0;34m,\u001b[0m \u001b[0;31m# Hyperparameter iperparametro\u001b[0m\u001b[0;34m\u001b[0m\u001b[0;34m\u001b[0m\u001b[0m\n\u001b[1;32m      4\u001b[0m     \u001b[0;34m'conv_out'\u001b[0m\u001b[0;34m:\u001b[0m \u001b[0;36m100\u001b[0m\u001b[0;34m,\u001b[0m\u001b[0;34m\u001b[0m\u001b[0;34m\u001b[0m\u001b[0m\n\u001b[1;32m      5\u001b[0m     \u001b[0;34m'kernel_size'\u001b[0m\u001b[0;34m:\u001b[0m \u001b[0;36m3\u001b[0m\u001b[0;34m,\u001b[0m\u001b[0;34m\u001b[0m\u001b[0;34m\u001b[0m\u001b[0m\n",
      "\u001b[0;31mNameError\u001b[0m: name 'vocab' is not defined"
     ]
    }
   ],
   "source": [
    "config = {\n",
    "    'num_emb': len(vocab),\n",
    "    'emb_dim': 300, # Hyperparameter iperparametro\n",
    "    'conv_out': 100,\n",
    "    'kernel_size': 3,\n",
    "    'n_epochs': 100,\n",
    "    'batch_size': 512,\n",
    "    'seq_len': 53, # Dalla deviazione standard\n",
    "    'n_classes': 4\n",
    "}"
   ]
  },
  {
   "cell_type": "code",
   "execution_count": 12,
   "metadata": {},
   "outputs": [],
   "source": [
    "torch_tokens = torch.zeros((len(token_text), config['seq_len']), dtype=torch.int64)\n",
    "for fid, frase in enumerate(token_text):\n",
    "    for pid, parola in enumerate(frase[:53]):\n",
    "        torch_tokens[fid, pid] = parola"
   ]
  },
  {
   "cell_type": "code",
   "execution_count": 13,
   "metadata": {},
   "outputs": [],
   "source": [
    "sentiment_to_id = {'MIXED': 0, 'NEGATIVE': 1, 'NEUTRAL': 2, 'POSITIVE': 3}\n",
    "labels = [sentiment_to_id[s] for s in dati['sentiment']]\n",
    "torch_labels = torch.tensor(labels, dtype=torch.int64)"
   ]
  },
  {
   "cell_type": "code",
   "execution_count": 17,
   "metadata": {},
   "outputs": [],
   "source": [
    "class TextClassifier(nn.Module):\n",
    "    def __init__(self, config):\n",
    "        super(TextClassifier, self).__init__()\n",
    "        \n",
    "        num_emb = config['num_emb']\n",
    "        emb_dim = config['emb_dim']\n",
    "        conv_out = config['conv_out']\n",
    "        kernel_size = config['kernel_size']\n",
    "        seq_len = config['seq_len']\n",
    "        n_classes = config['n_classes']\n",
    "        self.emb = nn.Embedding(num_emb, emb_dim)\n",
    "        self.conv = nn.Conv1d(emb_dim, conv_out, kernel_size)\n",
    "        self.fc = nn.Linear(conv_out*self.__output(kernel_size, seq_len), n_classes)\n",
    "    \n",
    "    \n",
    "    def forward(self, x):\n",
    "        x = self.emb(x)\n",
    "        x = torch.transpose(x, 1, 2)\n",
    "        x = self.conv(x)\n",
    "        x = torch.reshape(x, (x.shape[0], x.shape[1]*x.shape[2]))\n",
    "        x = self.fc(x)\n",
    "        return x\n",
    "    \n",
    "    def __output(self, kernel_size, seq_len):\n",
    "        return seq_len - kernel_size + 1"
   ]
  },
  {
   "cell_type": "code",
   "execution_count": 3,
   "metadata": {},
   "outputs": [],
   "source": [
    "def calculate_metrics(y_pred, y_true, labels=[0, 1, 2, 3]):\n",
    "    matches = 0\n",
    "    for p, t in zip(y_pred, y_true):\n",
    "        matches += 1 if p == t else 0\n",
    "    accuracy = matches/len(y_true)\n",
    "    \n",
    "    confusion_matrix = np.zeros((len(labels), len(labels)))\n",
    "    for p, t in zip(y_pred, y_true):\n",
    "        confusion_matrix[p, t] += 1\n",
    "    print(confusion_matrix)\n",
    "    precision = np.divide(np.diag(confusion_matrix), np.sum(confusion_matrix, axis=1),\n",
    "                          out=np.zeros_like(np.diag(confusion_matrix)),\n",
    "                          where=np.sum(confusion_matrix, axis=1)!=0)\n",
    "    recall = np.divide(np.diag(confusion_matrix), np.sum(confusion_matrix, axis=0),\n",
    "                          out=np.zeros_like(np.diag(confusion_matrix)),\n",
    "                          where=np.sum(confusion_matrix, axis=0)!=0)\n",
    "    f1 = np.divide(2*precision*recall, (precision+recall), \n",
    "                   out=np.zeros_like(precision),\n",
    "                   where=(precision+recall)!=0)\n",
    "    return accuracy, precision, recall, f1"
   ]
  },
  {
   "cell_type": "code",
   "execution_count": 6,
   "metadata": {},
   "outputs": [
    {
     "name": "stdout",
     "output_type": "stream",
     "text": [
      "[[3. 1. 0. 0.]\n",
      " [0. 1. 0. 0.]\n",
      " [0. 1. 2. 0.]\n",
      " [0. 0. 0. 2.]]\n"
     ]
    },
    {
     "data": {
      "text/plain": [
       "(0.8,\n",
       " array([0.75      , 1.        , 0.66666667, 1.        ]),\n",
       " array([1.        , 0.33333333, 1.        , 1.        ]),\n",
       " array([0.85714286, 0.5       , 0.8       , 1.        ]))"
      ]
     },
     "execution_count": 6,
     "metadata": {},
     "output_type": "execute_result"
    }
   ],
   "source": [
    "y_true = [0, 0, 1, 2, 3, 2, 3, 1, 1, 0]\n",
    "y_pred = [0, 0, 2, 2, 3, 2, 3, 1, 0, 0]\n",
    "calculate_metrics(y_pred, y_true)"
   ]
  },
  {
   "cell_type": "code",
   "execution_count": 50,
   "metadata": {},
   "outputs": [],
   "source": [
    "x_train, x_test, y_train, y_test = train_test_split(torch_tokens, torch_labels)"
   ]
  },
  {
   "cell_type": "code",
   "execution_count": 53,
   "metadata": {},
   "outputs": [
    {
     "name": "stderr",
     "output_type": "stream",
     "text": [
      "100%|██████████| 100/100 [1:57:11<00:00, 70.31s/it]"
     ]
    },
    {
     "name": "stdout",
     "output_type": "stream",
     "text": [
      "Ci ho messo un totale di 1 ore, 57 minuti e 11 secondi\n",
      "per una media di 70.31/epoca\n"
     ]
    },
    {
     "name": "stderr",
     "output_type": "stream",
     "text": [
      "\n"
     ]
    }
   ],
   "source": [
    "writer = SummaryWriter()\n",
    "\n",
    "tc = TextClassifier(config)\n",
    "loss = nn.CrossEntropyLoss()\n",
    "optimiser = torch.optim.Adam(tc.parameters())\n",
    "\n",
    "writer.add_graph(tc, x_test[0:1])\n",
    "# Qui comincia l'allenamento\n",
    "batch_size = config['batch_size']\n",
    "start = time()\n",
    "for epoch in tqdm(range(config['n_epochs'])):\n",
    "    train_loss = []\n",
    "    tc.train()\n",
    "    train_pred = np.array([], dtype=np.int64)\n",
    "    for batch in range(0, len(x_train), batch_size):\n",
    "        optimiser.zero_grad()\n",
    "        y_pred = tc(x_train[batch: batch+batch_size])\n",
    "        l = loss(y_pred, y_train[batch: batch+batch_size])\n",
    "        l.backward()\n",
    "        optimiser.step()\n",
    "        train_loss.append(l.item())\n",
    "        train_pred = np.concatenate([train_pred, \n",
    "                                     np.argmax(y_pred.detach().numpy(), axis=1).astype(np.int64)])\n",
    "    train_accuracy, train_precision, train_recall, train_f1 = calculate_metrics(train_pred, y_train)\n",
    "    \n",
    "    test_loss = []\n",
    "    tc.eval()\n",
    "    test_pred = np.array([], dtype=np.int64)\n",
    "    with torch.no_grad():\n",
    "        for batch in range(0, len(x_test), batch_size):\n",
    "            y_pred_test = tc(x_test[batch: batch+batch_size])\n",
    "            l = loss(y_pred_test, y_test[batch: batch+batch_size])\n",
    "            test_loss.append(l.item())\n",
    "            test_pred = np.concatenate([test_pred, \n",
    "                                        np.argmax(y_pred_test.detach().numpy(), axis=1).astype(np.int64)])\n",
    "    test_accuracy, test_precision, test_recall, test_f1 = calculate_metrics(test_pred, y_test)\n",
    "    writer.add_scalars('Loss', {'Train': np.mean(train_loss),\n",
    "                                'Test': np.mean(test_loss)}, epoch)\n",
    "    writer.add_scalars('Accuracy', {'Train': train_accuracy,\n",
    "                                'Test': test_accuracy}, epoch)\n",
    "    writer.add_scalars('Precision', {'Train_Mixed': train_precision[0],\n",
    "                                     'Train_Negative': train_precision[1],\n",
    "                                     'Train_Neutral': train_precision[2],\n",
    "                                     'Train_Positive': train_precision[3],\n",
    "                                     'Test_Mixed': test_precision[0],\n",
    "                                     'Test_Negative': test_precision[1],\n",
    "                                     'Test_Neutral': test_precision[2],\n",
    "                                     'Test_Positive': test_precision[3],\n",
    "                                    }, epoch)\n",
    "    writer.add_scalars('Recall', { 'Train_Mixed': train_recall[0],\n",
    "                                   'Train_Negative': train_recall[1],\n",
    "                                   'Train_Neutral': train_recall[2],\n",
    "                                   'Train_Positive': train_recall[3],\n",
    "                                   'Test_Mixed': test_recall[0],\n",
    "                                   'Test_Negative': test_recall[1],\n",
    "                                   'Test_Neutral': test_recall[2],\n",
    "                                   'Test_Positive': test_recall[3] }, epoch)\n",
    "    writer.add_scalars('F1', { 'Train_Mixed': train_f1[0],\n",
    "                              'Train_Negative': train_f1[1],\n",
    "                              'Train_Neutral': train_f1[2],\n",
    "                              'Train_Positive': train_f1[3],\n",
    "                              'Test_Mixed': test_f1[0],\n",
    "                              'Test_Negative': test_f1[1],\n",
    "                              'Test_Neutral': test_f1[2],\n",
    "                              'Test_Positive': test_f1[3] }, epoch)\n",
    "\n",
    "end = time()\n",
    "totale_secondi = int(end-start)\n",
    "ore = int((end-start)/3600)\n",
    "minuti = int(totale_secondi%3600/60)\n",
    "secondi = int(totale_secondi%60)\n",
    "print(f'Ci ho messo un totale di {ore} ore, {minuti} minuti e {secondi} secondi\\n'\n",
    "      f'per una media di {totale_secondi/config[\"n_epochs\"]}/epoca')\n",
    "writer.close()"
   ]
  },
  {
   "cell_type": "code",
   "execution_count": 54,
   "metadata": {},
   "outputs": [],
   "source": [
    "torch.save(tc.state_dict(), f'model-{datetime.now().strftime(\"%Y-%m-%d-%H-%M\")}.pth')"
   ]
  },
  {
   "cell_type": "code",
   "execution_count": 11,
   "metadata": {},
   "outputs": [],
   "source": [
    "arr = np.array([[1,4, 3],[1, 57,3]])"
   ]
  },
  {
   "cell_type": "code",
   "execution_count": 12,
   "metadata": {},
   "outputs": [
    {
     "data": {
      "text/plain": [
       "(2, 3)"
      ]
     },
     "execution_count": 12,
     "metadata": {},
     "output_type": "execute_result"
    }
   ],
   "source": [
    "arr.shape"
   ]
  },
  {
   "cell_type": "code",
   "execution_count": 15,
   "metadata": {},
   "outputs": [
    {
     "data": {
      "text/plain": [
       "(1, 3)"
      ]
     },
     "execution_count": 15,
     "metadata": {},
     "output_type": "execute_result"
    }
   ],
   "source": [
    "arr[0:1].shape"
   ]
  },
  {
   "cell_type": "code",
   "execution_count": 18,
   "metadata": {},
   "outputs": [
    {
     "ename": "NameError",
     "evalue": "name 'config' is not defined",
     "output_type": "error",
     "traceback": [
      "\u001b[0;31m---------------------------------------------------------------------------\u001b[0m",
      "\u001b[0;31mNameError\u001b[0m                                 Traceback (most recent call last)",
      "\u001b[0;32m<ipython-input-18-b40922c28ed8>\u001b[0m in \u001b[0;36m<module>\u001b[0;34m\u001b[0m\n\u001b[0;32m----> 1\u001b[0;31m \u001b[0mtc_1\u001b[0m \u001b[0;34m=\u001b[0m \u001b[0mTextClassifier\u001b[0m\u001b[0;34m(\u001b[0m\u001b[0mconfig\u001b[0m\u001b[0;34m)\u001b[0m\u001b[0;34m\u001b[0m\u001b[0;34m\u001b[0m\u001b[0m\n\u001b[0m\u001b[1;32m      2\u001b[0m \u001b[0mtc_1\u001b[0m\u001b[0;34m.\u001b[0m\u001b[0mload_state_dict\u001b[0m\u001b[0;34m(\u001b[0m\u001b[0mtorch\u001b[0m\u001b[0;34m.\u001b[0m\u001b[0mload\u001b[0m\u001b[0;34m(\u001b[0m\u001b[0;34m'model-2021-03-14-12-01.pth'\u001b[0m\u001b[0;34m)\u001b[0m\u001b[0;34m)\u001b[0m\u001b[0;34m\u001b[0m\u001b[0;34m\u001b[0m\u001b[0m\n",
      "\u001b[0;31mNameError\u001b[0m: name 'config' is not defined"
     ]
    }
   ],
   "source": [
    "tc_1 = TextClassifier(config)\n",
    "tc_1.load_state_dict(torch.load('model-2021-03-14-12-01.pth'))"
   ]
  },
  {
   "cell_type": "code",
   "execution_count": null,
   "metadata": {},
   "outputs": [],
   "source": []
  }
 ],
 "metadata": {
  "kernelspec": {
   "display_name": "Python 3",
   "language": "python",
   "name": "python3"
  },
  "language_info": {
   "codemirror_mode": {
    "name": "ipython",
    "version": 3
   },
   "file_extension": ".py",
   "mimetype": "text/x-python",
   "name": "python",
   "nbconvert_exporter": "python",
   "pygments_lexer": "ipython3",
   "version": "3.9.1"
  }
 },
 "nbformat": 4,
 "nbformat_minor": 4
}
