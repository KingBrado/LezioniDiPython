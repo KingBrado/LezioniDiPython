{
 "cells": [
  {
   "cell_type": "markdown",
   "metadata": {},
   "source": [
    "# Sentiment Analysis"
   ]
  },
  {
   "cell_type": "markdown",
   "metadata": {},
   "source": [
    "### Supervised Learning"
   ]
  },
  {
   "cell_type": "code",
   "execution_count": 1,
   "metadata": {},
   "outputs": [],
   "source": [
    "import os\n",
    "import re\n",
    "import string\n",
    "from unidecode import unidecode\n",
    "import pandas as pd\n",
    "import torch\n",
    "import sys"
   ]
  },
  {
   "cell_type": "code",
   "execution_count": 2,
   "metadata": {},
   "outputs": [],
   "source": [
    "data_path = os.path.join('dati', 'betsentiment-IT-tweets-sentiment-players.csv')\n",
    "dati = pd.read_csv(data_path, encoding='latin-1')"
   ]
  },
  {
   "cell_type": "code",
   "execution_count": 3,
   "metadata": {},
   "outputs": [
    {
     "data": {
      "text/plain": [
       "Index(['tweet_date_created', 'tweet_id', 'tweet_text', 'language', 'sentiment',\n",
       "       'sentiment_score'],\n",
       "      dtype='object')"
      ]
     },
     "execution_count": 3,
     "metadata": {},
     "output_type": "execute_result"
    }
   ],
   "source": [
    "dati.columns"
   ]
  },
  {
   "cell_type": "code",
   "execution_count": 4,
   "metadata": {},
   "outputs": [
    {
     "data": {
      "text/html": [
       "<div>\n",
       "<style scoped>\n",
       "    .dataframe tbody tr th:only-of-type {\n",
       "        vertical-align: middle;\n",
       "    }\n",
       "\n",
       "    .dataframe tbody tr th {\n",
       "        vertical-align: top;\n",
       "    }\n",
       "\n",
       "    .dataframe thead th {\n",
       "        text-align: right;\n",
       "    }\n",
       "</style>\n",
       "<table border=\"1\" class=\"dataframe\">\n",
       "  <thead>\n",
       "    <tr style=\"text-align: right;\">\n",
       "      <th></th>\n",
       "      <th>tweet_date_created</th>\n",
       "      <th>tweet_id</th>\n",
       "      <th>tweet_text</th>\n",
       "      <th>language</th>\n",
       "      <th>sentiment</th>\n",
       "      <th>sentiment_score</th>\n",
       "    </tr>\n",
       "  </thead>\n",
       "  <tbody>\n",
       "    <tr>\n",
       "      <th>0</th>\n",
       "      <td>2018-12-10T10:45:40.865000</td>\n",
       "      <td>1072079899224100865</td>\n",
       "      <td>@juventusfc @G_Higuain Auguri pipita,sempre co...</td>\n",
       "      <td>it</td>\n",
       "      <td>NEUTRAL</td>\n",
       "      <td>{\"Neutral\":0.858726024627685546875,\"Negative\":...</td>\n",
       "    </tr>\n",
       "    <tr>\n",
       "      <th>1</th>\n",
       "      <td>2018-06-30T18:41:02.817000</td>\n",
       "      <td>1013130303454498817</td>\n",
       "      <td>@realvarriale @massimozampini @KMbappe @G_Higu...</td>\n",
       "      <td>it</td>\n",
       "      <td>NEUTRAL</td>\n",
       "      <td>{\"Neutral\":0.973993778228759765625,\"Negative\":...</td>\n",
       "    </tr>\n",
       "    <tr>\n",
       "      <th>2</th>\n",
       "      <td>2018-12-26T19:40:44.308000</td>\n",
       "      <td>1078012758069858308</td>\n",
       "      <td>@OfficialASRoma @D_10Perotti @Hyundai_Italia S...</td>\n",
       "      <td>it</td>\n",
       "      <td>NEUTRAL</td>\n",
       "      <td>{\"Neutral\":0.9844334125518798828125,\"Negative\"...</td>\n",
       "    </tr>\n",
       "    <tr>\n",
       "      <th>3</th>\n",
       "      <td>2018-07-12T11:26:37.766000</td>\n",
       "      <td>1017369635816181766</td>\n",
       "      <td>@CarloRienzi @Cristiano @juventusfc Populismo ...</td>\n",
       "      <td>it</td>\n",
       "      <td>NEUTRAL</td>\n",
       "      <td>{\"Neutral\":0.993849217891693115234375,\"Negativ...</td>\n",
       "    </tr>\n",
       "    <tr>\n",
       "      <th>4</th>\n",
       "      <td>2018-06-12T19:20:36</td>\n",
       "      <td>1006617282779451392</td>\n",
       "      <td>@OfficialASRoma @OfficialRadja @leonsfdo non c...</td>\n",
       "      <td>it</td>\n",
       "      <td>NEUTRAL</td>\n",
       "      <td>{\"Neutral\":0.87245881557464599609375,\"Negative...</td>\n",
       "    </tr>\n",
       "  </tbody>\n",
       "</table>\n",
       "</div>"
      ],
      "text/plain": [
       "           tweet_date_created             tweet_id  \\\n",
       "0  2018-12-10T10:45:40.865000  1072079899224100865   \n",
       "1  2018-06-30T18:41:02.817000  1013130303454498817   \n",
       "2  2018-12-26T19:40:44.308000  1078012758069858308   \n",
       "3  2018-07-12T11:26:37.766000  1017369635816181766   \n",
       "4         2018-06-12T19:20:36  1006617282779451392   \n",
       "\n",
       "                                          tweet_text language sentiment  \\\n",
       "0  @juventusfc @G_Higuain Auguri pipita,sempre co...       it   NEUTRAL   \n",
       "1  @realvarriale @massimozampini @KMbappe @G_Higu...       it   NEUTRAL   \n",
       "2  @OfficialASRoma @D_10Perotti @Hyundai_Italia S...       it   NEUTRAL   \n",
       "3  @CarloRienzi @Cristiano @juventusfc Populismo ...       it   NEUTRAL   \n",
       "4  @OfficialASRoma @OfficialRadja @leonsfdo non c...       it   NEUTRAL   \n",
       "\n",
       "                                     sentiment_score  \n",
       "0  {\"Neutral\":0.858726024627685546875,\"Negative\":...  \n",
       "1  {\"Neutral\":0.973993778228759765625,\"Negative\":...  \n",
       "2  {\"Neutral\":0.9844334125518798828125,\"Negative\"...  \n",
       "3  {\"Neutral\":0.993849217891693115234375,\"Negativ...  \n",
       "4  {\"Neutral\":0.87245881557464599609375,\"Negative...  "
      ]
     },
     "execution_count": 4,
     "metadata": {},
     "output_type": "execute_result"
    }
   ],
   "source": [
    "dati.head()"
   ]
  },
  {
   "cell_type": "code",
   "execution_count": 5,
   "metadata": {},
   "outputs": [
    {
     "data": {
      "text/plain": [
       "'{\"Neutral\":0.858726024627685546875,\"Negative\":0.00167082459665834903717041015625,\"Positive\":0.13944680988788604736328125,\"Mixed\":0.000156317240907810628414154052734375}'"
      ]
     },
     "execution_count": 5,
     "metadata": {},
     "output_type": "execute_result"
    }
   ],
   "source": [
    "dati['sentiment_score'][0]"
   ]
  },
  {
   "cell_type": "code",
   "execution_count": 6,
   "metadata": {},
   "outputs": [
    {
     "data": {
      "text/plain": [
       "0         NEUTRAL\n",
       "1         NEUTRAL\n",
       "2         NEUTRAL\n",
       "3         NEUTRAL\n",
       "4         NEUTRAL\n",
       "           ...   \n",
       "165810    NEUTRAL\n",
       "165811    NEUTRAL\n",
       "165812    NEUTRAL\n",
       "165813    NEUTRAL\n",
       "165814    NEUTRAL\n",
       "Name: sentiment, Length: 165815, dtype: object"
      ]
     },
     "execution_count": 6,
     "metadata": {},
     "output_type": "execute_result"
    }
   ],
   "source": [
    "dati['sentiment']"
   ]
  },
  {
   "cell_type": "code",
   "execution_count": 7,
   "metadata": {},
   "outputs": [
    {
     "data": {
      "text/plain": [
       "{'MIXED', 'NEGATIVE', 'NEUTRAL', 'POSITIVE'}"
      ]
     },
     "execution_count": 7,
     "metadata": {},
     "output_type": "execute_result"
    }
   ],
   "source": [
    "set(dati['sentiment'])"
   ]
  },
  {
   "cell_type": "code",
   "execution_count": 8,
   "metadata": {},
   "outputs": [
    {
     "data": {
      "text/plain": [
       "'@juventusfc @G_Higuain Auguri pipita,sempre con noi'"
      ]
     },
     "execution_count": 8,
     "metadata": {},
     "output_type": "execute_result"
    }
   ],
   "source": [
    "dati['tweet_text'][0]"
   ]
  },
  {
   "cell_type": "code",
   "execution_count": 9,
   "metadata": {},
   "outputs": [],
   "source": [
    "found = re.search('[a-z]', dati['tweet_text'][0])"
   ]
  },
  {
   "cell_type": "code",
   "execution_count": 10,
   "metadata": {},
   "outputs": [
    {
     "name": "stdout",
     "output_type": "stream",
     "text": [
      "j\n"
     ]
    }
   ],
   "source": [
    "if found:\n",
    "    print(found.group(0))"
   ]
  },
  {
   "cell_type": "code",
   "execution_count": 11,
   "metadata": {},
   "outputs": [
    {
     "name": "stdout",
     "output_type": "stream",
     "text": [
      "b\n",
      " b\\n\n"
     ]
    }
   ],
   "source": [
    "print('b\\n', r'b\\n')"
   ]
  },
  {
   "cell_type": "code",
   "execution_count": 12,
   "metadata": {},
   "outputs": [],
   "source": [
    "# Proviamo solo minuscole per ora, per efficienza.\n",
    "# Essendo tweet, tutto maiuscolo potrebbe essere significativo.\n",
    "clean_text = re.sub(r'[^a-zàáèéíìòóùú0-9]', ' ', dati['tweet_text'][4876].lower())\n",
    "clean_text = re.sub(r'\\s+', ' ', clean_text).strip()"
   ]
  },
  {
   "cell_type": "code",
   "execution_count": 13,
   "metadata": {},
   "outputs": [
    {
     "data": {
      "text/plain": [
       "'narkos92 g apicella vannaboba sscnapoli ecavaniofficial ieri era fatta oggi si deve ridursi l ingaggio bah la vedo strana come cosa'"
      ]
     },
     "execution_count": 13,
     "metadata": {},
     "output_type": "execute_result"
    }
   ],
   "source": [
    "clean_text"
   ]
  },
  {
   "cell_type": "code",
   "execution_count": 14,
   "metadata": {},
   "outputs": [
    {
     "data": {
      "text/plain": [
       "'!\"#$%&\\'()*+,-./:;<=>?@[\\\\]^_`{|}~'"
      ]
     },
     "execution_count": 14,
     "metadata": {},
     "output_type": "execute_result"
    }
   ],
   "source": [
    "string.punctuation"
   ]
  },
  {
   "cell_type": "code",
   "execution_count": 15,
   "metadata": {},
   "outputs": [
    {
     "data": {
      "text/plain": [
       "' '"
      ]
     },
     "execution_count": 15,
     "metadata": {},
     "output_type": "execute_result"
    }
   ],
   "source": [
    "re.sub(r'[^a-z]', ' ', 'à')"
   ]
  },
  {
   "cell_type": "code",
   "execution_count": 16,
   "metadata": {},
   "outputs": [
    {
     "name": "stdout",
     "output_type": "stream",
     "text": [
      "4 @OfficialASRoma @OfficialRadja @leonsfdo non ce posso pensa non giochiamo #Radjanonsitocca non facciamo paragoni con altri giocatori andati lui per Roma è un altra cosa https://t.co/rgscxanuqh\n"
     ]
    }
   ],
   "source": [
    "for idx, tweet in enumerate(dati['tweet_text']):\n",
    "    if any(char in tweet for char in 'àáèéíìòóùú'):\n",
    "        print(idx, tweet)\n",
    "        break"
   ]
  },
  {
   "cell_type": "code",
   "execution_count": 17,
   "metadata": {},
   "outputs": [],
   "source": [
    "clean_text = re.sub(r'@[a-z0-9]+\\b', ' ', dati['tweet_text'][4].lower())\n",
    "clean_text = re.sub(r'[^a-zàáèéíìòóùú0-9]', ' ', clean_text)\n",
    "clean_text = re.sub(r'\\s+', ' ', clean_text).strip()\n",
    "clean_text = unidecode(clean_text)"
   ]
  },
  {
   "cell_type": "code",
   "execution_count": 18,
   "metadata": {},
   "outputs": [
    {
     "data": {
      "text/plain": [
       "'non ce posso pensa non giochiamo radjanonsitocca non facciamo paragoni con altri giocatori andati lui per roma e un altra cosa https t co rgscxanuqh'"
      ]
     },
     "execution_count": 18,
     "metadata": {},
     "output_type": "execute_result"
    }
   ],
   "source": [
    "clean_text"
   ]
  },
  {
   "cell_type": "code",
   "execution_count": 19,
   "metadata": {},
   "outputs": [],
   "source": [
    "def clean_text(text: str):\n",
    "    clean_text = re.sub(r'@[a-z0-9]+\\b', ' ', text.lower())\n",
    "    clean_text = re.sub(r'[^a-zàáèéíìòóùú0-9]', ' ', clean_text)\n",
    "    clean_text = re.sub(r'\\s+', ' ', clean_text).strip()\n",
    "    clean_text = unidecode(clean_text)\n",
    "    return clean_text"
   ]
  },
  {
   "cell_type": "markdown",
   "metadata": {},
   "source": [
    "### Tokenisation"
   ]
  },
  {
   "cell_type": "code",
   "execution_count": 20,
   "metadata": {},
   "outputs": [],
   "source": [
    "vocab = {'0': 0}\n",
    "for tweet in dati['tweet_text']:\n",
    "    pulito = clean_text(tweet).split()\n",
    "    for word in pulito:\n",
    "        if word not in vocab:\n",
    "            vocab[word] = len(vocab)"
   ]
  },
  {
   "cell_type": "code",
   "execution_count": 21,
   "metadata": {},
   "outputs": [
    {
     "data": {
      "text/plain": [
       "{'0': 0,\n",
       " 'g': 1,\n",
       " 'higuain': 2,\n",
       " 'auguri': 3,\n",
       " 'pipita': 4,\n",
       " 'sempre': 5,\n",
       " 'con': 6,\n",
       " 'noi': 7,\n",
       " 'paudybala': 8,\n",
       " 'jr': 9,\n",
       " 'nano': 10,\n",
       " 'puttano': 11,\n",
       " 'd': 12,\n",
       " '10perotti': 13,\n",
       " 'hyundai': 14,\n",
       " 'italia': 15,\n",
       " 'stasera': 16,\n",
       " 'bravissimi': 17,\n",
       " 'tutti': 18,\n",
       " 'una': 19,\n",
       " 'menzione': 20,\n",
       " 'per': 21,\n",
       " 'il': 22,\n",
       " 'capitano': 23,\n",
       " 'lucido': 24,\n",
       " 'ed': 25,\n",
       " 'onnipresente': 26,\n",
       " 'populismo': 27,\n",
       " 'di': 28,\n",
       " 'basso': 29,\n",
       " 'spessore': 30,\n",
       " 'non': 31,\n",
       " 'ce': 32,\n",
       " 'posso': 33,\n",
       " 'pensa': 34,\n",
       " 'giochiamo': 35,\n",
       " 'radjanonsitocca': 36,\n",
       " 'facciamo': 37,\n",
       " 'paragoni': 38,\n",
       " 'altri': 39,\n",
       " 'giocatori': 40,\n",
       " 'andati': 41,\n",
       " 'lui': 42,\n",
       " 'roma': 43,\n",
       " 'e': 44,\n",
       " 'un': 45,\n",
       " 'altra': 46,\n",
       " 'cosa': 47,\n",
       " 'https': 48,\n",
       " 't': 49,\n",
       " 'co': 50,\n",
       " 'rgscxanuqh': 51,\n",
       " 'stop': 52,\n",
       " 'altrimenti': 53,\n",
       " 'tanto': 54,\n",
       " 'vale': 55,\n",
       " 'prendere': 56,\n",
       " 'immobikeno': 57,\n",
       " 'belotti': 58,\n",
       " 'gli': 59,\n",
       " '50': 60,\n",
       " 'dove': 61,\n",
       " 'li': 62,\n",
       " 'prendi': 63,\n",
       " 'sei': 64,\n",
       " 'cane': 65,\n",
       " 'piccola': 66,\n",
       " 'cagna': 67,\n",
       " 'spaventata': 68,\n",
       " 'vorrei': 69,\n",
       " 'pisciarti': 70,\n",
       " 'in': 71,\n",
       " 'bocca': 72,\n",
       " 'se': 73,\n",
       " 'tu': 74,\n",
       " 'lo': 75,\n",
       " 'apprissi': 76,\n",
       " 'implorassi': 77,\n",
       " 'sii': 78,\n",
       " 'uomo': 79,\n",
       " 'coltiva': 80,\n",
       " 'le': 81,\n",
       " 'palle': 82,\n",
       " 'gioca': 83,\n",
       " 'alla': 84,\n",
       " 'buona': 85,\n",
       " 'liverpoolvsrealmadrid': 86,\n",
       " 'kiev2018': 87,\n",
       " 'madridvsliverpool': 88,\n",
       " 'lfcrma': 89,\n",
       " 'lfcvsrma': 90,\n",
       " 'lfc': 91,\n",
       " 'ynwa': 92,\n",
       " 'vive': 93,\n",
       " 'ue5a5dkp0a': 94,\n",
       " 'ma': 95,\n",
       " 'si': 96,\n",
       " 'tocca': 97,\n",
       " 'restasse': 98,\n",
       " 'da': 99,\n",
       " 'tutta': 100,\n",
       " 'la': 101,\n",
       " 'vita': 102,\n",
       " 'ritornerete': 103,\n",
       " 'nostro': 104,\n",
       " 'canale': 105,\n",
       " 'ufficiale': 106,\n",
       " 'dele': 107,\n",
       " 'official': 108,\n",
       " 'sonderella': 109,\n",
       " 'b4ly93aat9': 110,\n",
       " 'grazie': 111,\n",
       " 'tutto': 112,\n",
       " 'swissexpress': 113,\n",
       " 'sono': 114,\n",
       " 'stati': 115,\n",
       " '7': 116,\n",
       " 'anni': 117,\n",
       " 'indimenticabili': 118,\n",
       " 'fatti': 119,\n",
       " 'vittorie': 120,\n",
       " 'sconfitte': 121,\n",
       " 'poche': 122,\n",
       " 'enormi': 123,\n",
       " 'gioie': 124,\n",
       " 'tante': 125,\n",
       " 'incazzature': 126,\n",
       " 'campo': 127,\n",
       " 'arbitri': 128,\n",
       " 'my7h': 129,\n",
       " 'mi': 130,\n",
       " 'mancherai': 131,\n",
       " 'acerbi': 132,\n",
       " 'fra': 133,\n",
       " 'bravi': 134,\n",
       " 'iniziativa': 135,\n",
       " 'veramente': 136,\n",
       " 'natalizia': 137,\n",
       " 'scusami': 138,\n",
       " 'potresti': 139,\n",
       " 'dirci': 140,\n",
       " 'oggi': 141,\n",
       " 'arrivi': 142,\n",
       " 'a': 143,\n",
       " 'torino': 144,\n",
       " 'va': 145,\n",
       " 'bene': 146,\n",
       " 'pure': 147,\n",
       " 'autocertificazione': 148,\n",
       " 'siamo': 149,\n",
       " 'ho': 150,\n",
       " 'stigmatizzato': 151,\n",
       " 'l': 152,\n",
       " 'ingenuita': 153,\n",
       " 'soriano': 154,\n",
       " 'trovo': 155,\n",
       " 'assurdo': 156,\n",
       " 'prendersela': 157,\n",
       " 'che': 158,\n",
       " 'dopo': 159,\n",
       " 'aver': 160,\n",
       " 'dato': 161,\n",
       " '90': 162,\n",
       " 'entrato': 163,\n",
       " 'nello': 164,\n",
       " 'spogliatoio': 165,\n",
       " 'avversario': 166,\n",
       " 'salutare': 167,\n",
       " 'amico': 168,\n",
       " 'scambiare': 169,\n",
       " 'maglia': 170,\n",
       " 'uomini': 171,\n",
       " 'prima': 172,\n",
       " 'calciatori': 173,\n",
       " 'perdiamo': 174,\n",
       " 'vista': 175,\n",
       " 'realta': 176,\n",
       " '19': 177,\n",
       " 'chance': 178,\n",
       " 'serve': 179,\n",
       " 'elude': 180,\n",
       " 'marcatura': 181,\n",
       " 'del': 182,\n",
       " 'difensore': 183,\n",
       " 'gran': 184,\n",
       " 'colpo': 185,\n",
       " 'tacco': 186,\n",
       " 'entra': 187,\n",
       " 'area': 188,\n",
       " 'impegna': 189,\n",
       " 'provedel': 190,\n",
       " 'bell': 191,\n",
       " 'azione': 192,\n",
       " 'sft': 193,\n",
       " 'fvcg': 194,\n",
       " 'torinoempoli': 195,\n",
       " 'javi': 196,\n",
       " 'pastore': 197,\n",
       " 'no': 198,\n",
       " 'assolutamente': 199,\n",
       " 'gazzetta': 200,\n",
       " 'it': 201,\n",
       " 'quante': 202,\n",
       " 'critiche': 203,\n",
       " 'smettetela': 204,\n",
       " 'vai': 205,\n",
       " 'wanda': 206,\n",
       " 'rispetto': 207,\n",
       " 'sport': 208,\n",
       " 'puo': 209,\n",
       " 'essere': 210,\n",
       " 'ostaggio': 211,\n",
       " '4': 212,\n",
       " 'animali': 213,\n",
       " 'albergano': 214,\n",
       " 'stadi': 215,\n",
       " 'sottolineo': 216,\n",
       " 'viene': 217,\n",
       " 'impedito': 218,\n",
       " 'andare': 219,\n",
       " 'trasferta': 220,\n",
       " 'solo': 221,\n",
       " 'perche': 222,\n",
       " 'interista': 223,\n",
       " 'immagino': 224,\n",
       " 'anche': 225,\n",
       " 'santi': 226,\n",
       " 'avranno': 227,\n",
       " 'medesimo': 228,\n",
       " 'trattamento': 229,\n",
       " 'buon': 230,\n",
       " 'natale': 231,\n",
       " 'quaqquo': 232,\n",
       " 'siete': 233,\n",
       " 'proprio': 234,\n",
       " 'canna': 235,\n",
       " 'gas': 236,\n",
       " 'difendere': 237,\n",
       " 'vostre': 238,\n",
       " 'malefatte': 239,\n",
       " 'aiutini': 240,\n",
       " 'vi': 241,\n",
       " 'attaccate': 242,\n",
       " 'all': 243,\n",
       " 'allotanamento': 244,\n",
       " 'pallone': 245,\n",
       " 'tra': 246,\n",
       " 'po': 247,\n",
       " 'alle': 248,\n",
       " 'scorregge': 249,\n",
       " 'durante': 250,\n",
       " 'intervento': 251,\n",
       " '70': 252,\n",
       " 'mercato': 253,\n",
       " 'stato': 254,\n",
       " 'completato': 255,\n",
       " 'ora': 256,\n",
       " 'sotto': 257,\n",
       " 'col': 258,\n",
       " '30': 259,\n",
       " 'terzino': 260,\n",
       " 'destro': 261,\n",
       " 'ala': 262,\n",
       " 'destra': 263,\n",
       " 'riprendirafinha': 264,\n",
       " 'antonio': 265,\n",
       " 'staglia': 266,\n",
       " 'mike': 267,\n",
       " 'fusco': 268,\n",
       " 'guardo': 269,\n",
       " 'alto': 270,\n",
       " 'vedo': 271,\n",
       " 'quanto': 272,\n",
       " 'vivo': 273,\n",
       " 'vegeto': 274,\n",
       " 'dici': 275,\n",
       " 'mettiamo': 276,\n",
       " 'var': 277,\n",
       " 'citta': 278,\n",
       " 'vuole': 279,\n",
       " 'napoli': 280,\n",
       " 'dichiarazioni': 281,\n",
       " 'presidente': 282,\n",
       " 'invece': 283,\n",
       " 'togliere': 284,\n",
       " 'illusione': 285,\n",
       " 'hanno': 286,\n",
       " 'messo': 287,\n",
       " 'piu': 288,\n",
       " 'entusiasmo': 289,\n",
       " 'ai': 290,\n",
       " 'tifosi': 291,\n",
       " 'cavanichiamalo': 292,\n",
       " 'qpejcbmmcc': 293,\n",
       " 'maroccoiran': 294,\n",
       " 'toccata': 295,\n",
       " 'sa': 296,\n",
       " 'cari': 297,\n",
       " 'ex': 298,\n",
       " 'romanisti': 299,\n",
       " 'coppa': 300,\n",
       " 've': 301,\n",
       " 'date': 302,\n",
       " 'faccia': 303,\n",
       " 'avanti': 304,\n",
       " 'prossimo': 305,\n",
       " 'ne': 306,\n",
       " 'forza': 307,\n",
       " 'comunque': 308,\n",
       " 'marotta': 309,\n",
       " 'porta': 310,\n",
       " 'giuro': 311,\n",
       " 'ci': 312,\n",
       " 'faccio': 313,\n",
       " 'statua': 314,\n",
       " 'metto': 315,\n",
       " 'giardino': 316,\n",
       " 'pero': 317,\n",
       " 'vincemmo': 318,\n",
       " 'mondiale': 319,\n",
       " 'loro': 320,\n",
       " 'inchineranno': 321,\n",
       " 'max': 322,\n",
       " 'nelle': 323,\n",
       " 'cessioni': 324,\n",
       " 'top': 325,\n",
       " 'negli': 326,\n",
       " 'acquisti': 327,\n",
       " 'migliorare': 328,\n",
       " 'cr7day': 329,\n",
       " 'juventus': 330,\n",
       " 'skysport24': 331,\n",
       " 'nel': 332,\n",
       " 'cuore': 333,\n",
       " 'tutte': 334,\n",
       " 'persone': 335,\n",
       " 'coinvolte': 336,\n",
       " 'nella': 337,\n",
       " 'presentazione': 338,\n",
       " 'dover': 339,\n",
       " 'fare': 340,\n",
       " 'sua': 341,\n",
       " 'sembra': 342,\n",
       " 'eccessivo': 343,\n",
       " '10': 344,\n",
       " 'smarti': 345,\n",
       " 'emrecan': 346,\n",
       " 'bellissimi': 347,\n",
       " 'juve': 348,\n",
       " 'credevo': 349,\n",
       " 'pirlo': 350,\n",
       " 'giocava': 351,\n",
       " 'tempo': 352,\n",
       " 'squadra': 353,\n",
       " 'come': 354,\n",
       " 'ha': 355,\n",
       " 'fatto': 356,\n",
       " 'de': 357,\n",
       " 'vrj': 358,\n",
       " 'ieri': 359,\n",
       " 'sera': 360,\n",
       " 'me': 361,\n",
       " 'sara': 362,\n",
       " 'mai': 363,\n",
       " 'campione': 364,\n",
       " 'o': 365,\n",
       " 'unico': 366,\n",
       " 'poteva': 367,\n",
       " 'trascinare': 368,\n",
       " 'era': 369,\n",
       " 'phil': 370,\n",
       " 'coutinho': 371,\n",
       " 'oscurato': 372,\n",
       " 'attore': 373,\n",
       " 'crede': 374,\n",
       " 'giocare': 375,\n",
       " 'dentro': 376,\n",
       " 'parco': 377,\n",
       " 'giochi': 378,\n",
       " 'dei': 379,\n",
       " 'bambini': 380,\n",
       " 'the': 381,\n",
       " 'flash': 382,\n",
       " 'tornato': 383,\n",
       " 'ad': 384,\n",
       " 'allenarsi': 385,\n",
       " 'sele': 386,\n",
       " 'ngzniwvbge': 387,\n",
       " 'dries': 388,\n",
       " 'mertens14': 389,\n",
       " 'puoi': 390,\n",
       " 'meglio': 391,\n",
       " 'triste': 392,\n",
       " 'tristissimo': 393,\n",
       " 'sul': 394,\n",
       " 'procuratore': 395,\n",
       " 'messi': 396,\n",
       " 'qualcosa': 397,\n",
       " 'franciaaustralia': 398,\n",
       " 'worldcuprussia2018': 399,\n",
       " 'oliviergiroud': 400,\n",
       " 'modalita': 401,\n",
       " 'stima': 402,\n",
       " 'andrea': 403,\n",
       " 'creti': 404,\n",
       " '11': 405,\n",
       " '5': 406,\n",
       " 'mesi': 407,\n",
       " '12': 408,\n",
       " 'qualcuno': 409,\n",
       " 'saputo': 410,\n",
       " 'milano': 411,\n",
       " 'rytxrpl4rk': 412,\n",
       " 'indignati': 413,\n",
       " 'ancora': 414,\n",
       " '1vncgdfmek': 415,\n",
       " 'pagliaccio': 416,\n",
       " 'funzionato': 417,\n",
       " 'tranne': 418,\n",
       " 'gestito': 419,\n",
       " 'questue': 420,\n",
       " 'due': 421,\n",
       " 'pagliacci': 422,\n",
       " 'tristi': 423,\n",
       " 'ipocriti': 424,\n",
       " 'juventino': 425,\n",
       " 'romano': 426,\n",
       " 'italiano': 427,\n",
       " 'umano': 428,\n",
       " 'dissocio': 429,\n",
       " 'grande': 430,\n",
       " 'giocatore': 431,\n",
       " 'piattaforma': 432,\n",
       " 'trasmettete': 433,\n",
       " 'dalla': 434,\n",
       " 'luna': 435,\n",
       " 'tanti': 436,\n",
       " 'gonzalo': 437,\n",
       " 'nonostante': 438,\n",
       " 'odio': 439,\n",
       " 'sportivo': 440,\n",
       " 'verso': 441,\n",
       " 'portare': 442,\n",
       " 'seriea': 443,\n",
       " 'tim': 444,\n",
       " 'spero': 445,\n",
       " 'risponda': 446,\n",
       " 'questo': 447,\n",
       " 'thank': 448,\n",
       " 'you': 449,\n",
       " 'very': 450,\n",
       " 'mouch': 451,\n",
       " 'vedic': 452,\n",
       " 'scherzo': 453,\n",
       " 'unable': 454,\n",
       " 'sorella': 455,\n",
       " 'gobba': 456,\n",
       " 'bianconera': 457,\n",
       " 'fai': 458,\n",
       " 'parte': 459,\n",
       " 'della': 460,\n",
       " 'famiglia': 461,\n",
       " 'fa': 462,\n",
       " 'ti': 463,\n",
       " 'presentato': 464,\n",
       " 'hotel': 465,\n",
       " 'vesuvio': 466,\n",
       " 'stiamo': 467,\n",
       " 'aspettando': 468,\n",
       " 'chiariello': 469,\n",
       " 'cs': 470,\n",
       " 'riportarlo': 471,\n",
       " 'casa': 472,\n",
       " 'editorna': 473,\n",
       " 'forzanapolisempre': 474,\n",
       " '4wdjijrj75': 475,\n",
       " 'ferdi': 476,\n",
       " 'ferrari': 477,\n",
       " 'raiola': 478,\n",
       " 'uno': 479,\n",
       " 'valere': 480,\n",
       " 'striliardi': 481,\n",
       " 'sui': 482,\n",
       " 'giornali': 483,\n",
       " 'finire': 484,\n",
       " 'carriera': 485,\n",
       " 'lei': 486,\n",
       " 'onestamente': 487,\n",
       " 'lavoro': 488,\n",
       " 'svolge': 489,\n",
       " 'dal': 490,\n",
       " 'pdv': 491,\n",
       " 'economico': 492,\n",
       " 'rischia': 493,\n",
       " 'guastargli': 494,\n",
       " 'immagine': 495,\n",
       " 'gia': 496,\n",
       " 'tipo': 497,\n",
       " 'appende': 498,\n",
       " 'i': 499,\n",
       " 'compagni': 500,\n",
       " 'agli': 501,\n",
       " 'armadietti': 502,\n",
       " 'secondo': 503,\n",
       " 'dimettersi': 504,\n",
       " 'permettersi': 505,\n",
       " 'nanchino': 506,\n",
       " 'zhang': 507,\n",
       " 'chiedere': 508,\n",
       " 'testa': 509,\n",
       " 'ausilio': 510,\n",
       " 'ringraziate': 511,\n",
       " 'signore': 512,\n",
       " 'portato': 513,\n",
       " 'finale': 514,\n",
       " 'marione': 515,\n",
       " 'dnpmgzx1iy': 516,\n",
       " 'gruppo': 517,\n",
       " 'coeso': 518,\n",
       " 'inizio': 519,\n",
       " 'anno': 520,\n",
       " 'dobbiamo': 521,\n",
       " 'sbagliare': 522,\n",
       " 'approccio': 523,\n",
       " 'accaduto': 524,\n",
       " 'consapevoli': 525,\n",
       " 'forte': 526,\n",
       " 'lazioeintracht': 527,\n",
       " 'convocati': 528,\n",
       " 'tornano': 529,\n",
       " 'coric': 530,\n",
       " 'asroma': 531,\n",
       " 'championsleague': 532,\n",
       " 'it4iwkuwj2': 533,\n",
       " 'river': 534,\n",
       " 'riveros': 535,\n",
       " 'callaron': 536,\n",
       " 'hahahahaha': 537,\n",
       " 'escribe': 538,\n",
       " 'todo': 539,\n",
       " 'eso': 540,\n",
       " 'sin': 541,\n",
       " 'llorar': 542,\n",
       " 'marco': 543,\n",
       " 'samp': 544,\n",
       " 'tenacia': 545,\n",
       " 'serenita': 546,\n",
       " 'ecco': 547,\n",
       " 'superato': 548,\n",
       " 'momenti': 549,\n",
       " 'difficili': 550,\n",
       " 'guarda': 551,\n",
       " 'intervista': 552,\n",
       " 'completa': 553,\n",
       " 'su': 554,\n",
       " 'dazn': 555,\n",
       " 'kz1e2joaxj': 556,\n",
       " 'r61p5qydwn': 557,\n",
       " 'tuuuooorrrrn': 558,\n",
       " 'willy': 559,\n",
       " 'signori': 560,\n",
       " 'vostri': 561,\n",
       " 'debiti': 562,\n",
       " 'x5': 563,\n",
       " 'faro': 564,\n",
       " 'visto': 565,\n",
       " 'ero': 566,\n",
       " 'nato': 567,\n",
       " 'aledelpi': 568,\n",
       " 'cosi': 569,\n",
       " 'piangere': 570,\n",
       " 'cristiano': 571,\n",
       " 'ronaldo': 572,\n",
       " 'atterra': 573,\n",
       " 'sulla': 574,\n",
       " 'strada': 575,\n",
       " 'ali': 576,\n",
       " 'folla': 577,\n",
       " 'festanti': 578,\n",
       " 'entrando': 579,\n",
       " 'poi': 580,\n",
       " 'gesu': 581,\n",
       " 'gerusalemme': 582,\n",
       " 'domenica': 583,\n",
       " 'delle': 584,\n",
       " 'palme': 585,\n",
       " 'luca': 586,\n",
       " 'cilli': 587,\n",
       " 'gentilissimo': 588,\n",
       " 'allora': 589,\n",
       " 'fate': 590,\n",
       " 'posta': 591,\n",
       " 'vogliamo': 592,\n",
       " 'sorriso': 593,\n",
       " 'eh': 594,\n",
       " 'hai': 595,\n",
       " 'poco': 596,\n",
       " 'degea': 597,\n",
       " 'shaa': 598,\n",
       " 'allaah': 599,\n",
       " 'poveraccio': 600,\n",
       " 'colpa': 601,\n",
       " 'dybala': 602,\n",
       " 'misura': 603,\n",
       " 'maggiore': 604,\n",
       " 'icardi': 605,\n",
       " 'capace': 606,\n",
       " 'farsi': 607,\n",
       " 'convocare': 608,\n",
       " 'questa': 609,\n",
       " 'argentina': 610,\n",
       " 'molto': 611,\n",
       " 'scarsa': 612,\n",
       " 'devo': 613,\n",
       " 'farmi': 614,\n",
       " 'controllare': 615,\n",
       " 'dieci': 616,\n",
       " 'minuti': 617,\n",
       " 'seconda': 618,\n",
       " 'volta': 619,\n",
       " 'accordo': 620,\n",
       " 'benvenuti': 621,\n",
       " 'juventini': 622,\n",
       " 'meraviglia': 623,\n",
       " 'piacere': 624,\n",
       " 'onore': 625,\n",
       " 'avervi': 626,\n",
       " 'family': 627,\n",
       " 'cr7juve': 628,\n",
       " 'benvenuto': 629,\n",
       " 'mejor': 630,\n",
       " 'paolo': 631,\n",
       " 'bargiggia': 632,\n",
       " 'can': 633,\n",
       " 'al': 634,\n",
       " 'posto': 635,\n",
       " 'sturaro': 636,\n",
       " 'stefano': 637,\n",
       " 'direi': 638,\n",
       " 'meno': 639,\n",
       " 'miglioriamo': 640,\n",
       " 'prospettiva': 641,\n",
       " 'ospina1': 642,\n",
       " 'david': 643,\n",
       " 'nicos': 644,\n",
       " 'moriello': 645,\n",
       " 'inutile': 646,\n",
       " 'cerchiate': 647,\n",
       " 'far': 648,\n",
       " 'credere': 649,\n",
       " 'contiamo': 650,\n",
       " 'cazzo': 651,\n",
       " 'mettete': 652,\n",
       " 'cantare': 653,\n",
       " 'cori': 654,\n",
       " 'rivisitati': 655,\n",
       " 'allo': 656,\n",
       " 'stadium': 657,\n",
       " 'vuoi': 658,\n",
       " 'negarlo': 659,\n",
       " 'torna': 660,\n",
       " 'matador': 661,\n",
       " 'aspetta': 662,\n",
       " 'buonanotte': 663,\n",
       " 'aiuta': 664,\n",
       " 'fifaworldcup2018': 665,\n",
       " 'russia2018': 666,\n",
       " 'mondiali': 667,\n",
       " 'cristianoronaldo': 668,\n",
       " 'edinsoncavani': 669,\n",
       " 'ronaldocavani': 670,\n",
       " 'portogallo': 671,\n",
       " 'uruguay': 672,\n",
       " 'calcio': 673,\n",
       " 'soccer': 674,\n",
       " 'football': 675,\n",
       " 'lagoleadait': 676,\n",
       " 'qvp6gnnmjw': 677,\n",
       " 'purtroppo': 678,\n",
       " 'fragilita': 679,\n",
       " 'muscoli': 680,\n",
       " 'problema': 681,\n",
       " 'ragazzo': 682,\n",
       " 'sassuolo': 683,\n",
       " 'avuto': 684,\n",
       " 'molti': 685,\n",
       " 'troppi': 686,\n",
       " 'infortuni': 687,\n",
       " 'muscolari': 688,\n",
       " 'peccato': 689,\n",
       " 'gianluca': 690,\n",
       " 'aggiornamenti': 691,\n",
       " 'berardi': 692,\n",
       " 'nessuno': 693,\n",
       " 'paragonabile': 694,\n",
       " 'te': 695,\n",
       " 'paulo': 696,\n",
       " '1': 697,\n",
       " 'speriamo': 698,\n",
       " 'contunui': 699,\n",
       " 'potra': 700,\n",
       " 'vendere': 701,\n",
       " 'prezzo': 702,\n",
       " 'unstoppable': 703,\n",
       " '94': 704,\n",
       " 'peppe': 705,\n",
       " 'fn': 706,\n",
       " 'cenerentola': 707,\n",
       " 'micene': 708,\n",
       " 'sagitter': 709,\n",
       " 'baubau': 710,\n",
       " '2': 711,\n",
       " 'carbonara': 712,\n",
       " 'pomeriggio': 713,\n",
       " 'cena': 714,\n",
       " 'topi': 715,\n",
       " 'morti': 716,\n",
       " 'ok': 717,\n",
       " 'essendo': 718,\n",
       " 'esimermi': 719,\n",
       " 'diventare': 720,\n",
       " 'seguace': 721,\n",
       " 'quindi': 722,\n",
       " 'chi': 723,\n",
       " 'quella': 724,\n",
       " 'tailleur': 725,\n",
       " 'mare': 726,\n",
       " 'grecia': 727,\n",
       " 'lochescion': 728,\n",
       " 'segretaria': 729,\n",
       " 'tailleurmarino': 730,\n",
       " 'oug6htf5ib': 731,\n",
       " 'grandissimo': 732,\n",
       " 'meritatissima': 733,\n",
       " 'go': 734,\n",
       " 'notte': 735,\n",
       " 'splendida': 736,\n",
       " 'dara': 737,\n",
       " 'colori': 738,\n",
       " 'stemma': 739,\n",
       " 'nero': 740,\n",
       " 'azzurro': 741,\n",
       " 'sullo': 742,\n",
       " 'sfondo': 743,\n",
       " 'oro': 744,\n",
       " 'stelle': 745,\n",
       " 'chiamera': 746,\n",
       " 'internazionale': 747,\n",
       " 'fratelli': 748,\n",
       " 'mondo': 749,\n",
       " 'bravo': 750,\n",
       " 'noalrazzismo': 751,\n",
       " 'noracism': 752,\n",
       " 'quelli': 753,\n",
       " 'fuori': 754,\n",
       " 'politica': 755,\n",
       " 'aquile': 756,\n",
       " 'xhaka': 757,\n",
       " 'xs': 758,\n",
       " '11official': 759,\n",
       " 'maestro': 760,\n",
       " 'tabarez': 761,\n",
       " 'sollecita': 762,\n",
       " 'governo': 763,\n",
       " 'rispettare': 764,\n",
       " 'promessa': 765,\n",
       " 'investire': 766,\n",
       " '6': 767,\n",
       " 'pil': 768,\n",
       " 'nell': 769,\n",
       " 'istruzione': 770,\n",
       " 'decidetevi': 771,\n",
       " 'rsimondiali': 772,\n",
       " 'mondiale18': 773,\n",
       " 'frabel': 774,\n",
       " 'sarai': 775,\n",
       " 'grandi': 776,\n",
       " 'club': 777,\n",
       " 'farai': 778,\n",
       " 'vincera': 779,\n",
       " '40': 780,\n",
       " 'volte': 781,\n",
       " 'scudetto': 782,\n",
       " 'riportera': 783,\n",
       " 'ldc': 784,\n",
       " 'storia': 785,\n",
       " 'continua': 786,\n",
       " 'finoallafine': 787,\n",
       " '8zqomch12w': 788,\n",
       " 'sostenere': 789,\n",
       " 'obbiettivo': 790,\n",
       " 'attacco': 791,\n",
       " 'sia': 792,\n",
       " '20': 793,\n",
       " 'mette': 794,\n",
       " 'magari': 795,\n",
       " 'brutto': 796,\n",
       " 'belli': 797,\n",
       " 'mancino': 798,\n",
       " 'naturale': 799,\n",
       " 'piedi': 800,\n",
       " 'destri': 801,\n",
       " 'soprattutto': 802,\n",
       " 'c': 803,\n",
       " 'maiuscola': 804,\n",
       " 'incarna': 805,\n",
       " 'pieno': 806,\n",
       " 'spirito': 807,\n",
       " 'ultime': 808,\n",
       " 'bandiere': 809,\n",
       " 'regali': 810,\n",
       " 'pni3ej3grx': 811,\n",
       " 'lor': 812,\n",
       " 'insigne': 813,\n",
       " 'saltano': 814,\n",
       " 'nervi': 815,\n",
       " 'asamoah': 816,\n",
       " 'salva': 817,\n",
       " 'linea': 818,\n",
       " 'beccate': 819,\n",
       " 'pera': 820,\n",
       " 'dietro': 821,\n",
       " '91esimo': 822,\n",
       " 'iniziamo': 823,\n",
       " 'male': 824,\n",
       " 'via': 825,\n",
       " 'subito': 826,\n",
       " 'durant': 827,\n",
       " 'amato': 828,\n",
       " 'quando': 829,\n",
       " 'andato': 830,\n",
       " 'segnato': 831,\n",
       " 'ambire': 832,\n",
       " 'maglie': 833,\n",
       " 'migliori': 834,\n",
       " 'duncan': 835,\n",
       " 'esempio': 836,\n",
       " '4tv394kd6n': 837,\n",
       " 'italiani': 838,\n",
       " 'amano': 839,\n",
       " 'gioco': 840,\n",
       " 'stupidi': 841,\n",
       " 'ignoranti': 842,\n",
       " 'razzisti': 843,\n",
       " 'sicuramente': 844,\n",
       " 'kalidou': 845,\n",
       " 'oltre': 846,\n",
       " 'cerca': 847,\n",
       " 'farti': 848,\n",
       " 'scivolare': 849,\n",
       " 'addosso': 850,\n",
       " 'possibile': 851,\n",
       " 'atalantajuve': 852,\n",
       " 'battete': 853,\n",
       " 'giocando': 854,\n",
       " 'contro': 855,\n",
       " 'arbitraggio': 856,\n",
       " 'senso': 857,\n",
       " 'gol': 858,\n",
       " 'annullati': 859,\n",
       " '60': 860,\n",
       " 'panchina': 861,\n",
       " 'nemmeno': 862,\n",
       " 'bendati': 863,\n",
       " '4jrspllqbf': 864,\n",
       " 'hce': 865,\n",
       " 'milik': 866,\n",
       " 'fine': 867,\n",
       " 'psg': 868,\n",
       " 'english': 869,\n",
       " 'genny': 870,\n",
       " 'sicuro': 871,\n",
       " 'responso': 872,\n",
       " 'sondaggio': 873,\n",
       " 'simulatore': 874,\n",
       " 'numero': 875,\n",
       " 'seguito': 876,\n",
       " 'incollatura': 877,\n",
       " 'meg': 878,\n",
       " 'ryan': 879,\n",
       " 'rlkz6jbp3m': 880,\n",
       " 'vittoria': 881,\n",
       " 'ivqkrc3cr6': 882,\n",
       " 'prendo': 883,\n",
       " 'parola': 884,\n",
       " 'salvo': 885,\n",
       " 'tuo': 886,\n",
       " 'tweet': 887,\n",
       " 'sull': 888,\n",
       " 'inter': 889,\n",
       " 'vincente': 890,\n",
       " 'maggio': 891,\n",
       " 'sparite': 892,\n",
       " 'rivediamolo': 893,\n",
       " 'beppe': 894,\n",
       " 'xzklvrdfjc': 895,\n",
       " 'avete': 896,\n",
       " 'lingua': 897,\n",
       " 'sporca': 898,\n",
       " 'merda': 899,\n",
       " 'injusticia': 900,\n",
       " 'ingiustizia': 901,\n",
       " 'eres': 902,\n",
       " 'el': 903,\n",
       " 'migliore': 904,\n",
       " 'cjszyy3ahp': 905,\n",
       " 'social': 906,\n",
       " 'vacanza': 907,\n",
       " 'speciali': 908,\n",
       " 'rafinha': 909,\n",
       " 'eder': 910,\n",
       " 'dalbert': 911,\n",
       " 'calciomercato': 912,\n",
       " 'calciomercatointer': 913,\n",
       " 'forzainter': 914,\n",
       " 'interishere': 915,\n",
       " 'fcim': 916,\n",
       " 'amala': 917,\n",
       " 'w7yq1frgy5': 918,\n",
       " 'almeno': 919,\n",
       " 'smette': 920,\n",
       " 'mascherarsi': 921,\n",
       " 'imparziale': 922,\n",
       " 'omuncolo': 923,\n",
       " 'beozia': 924,\n",
       " 'titolare': 925,\n",
       " 'ucl': 926,\n",
       " 'kyezsptdwh': 927,\n",
       " 'romanista': 928,\n",
       " 'fino': 929,\n",
       " 'ultimo': 930,\n",
       " 'pagina': 931,\n",
       " 'instagram': 932,\n",
       " 'io': 933,\n",
       " 'belga': 934,\n",
       " 'sarebbe': 935,\n",
       " 'consegnare': 936,\n",
       " 'giallorossa': 937,\n",
       " 'stagione': 938,\n",
       " '2018': 939,\n",
       " 'suo': 940,\n",
       " 'nome': 941,\n",
       " 'stampato': 942,\n",
       " 'nainggolan': 943,\n",
       " 'e7bjuhfpwv': 944,\n",
       " 'avrebbe': 945,\n",
       " 'visite': 946,\n",
       " 'mediche': 947,\n",
       " 'pazzesco': 948,\n",
       " 'confermi': 949,\n",
       " '1yicruwfog': 950,\n",
       " 'vendete': 951,\n",
       " 'bale': 952,\n",
       " 'prende': 953,\n",
       " 'entrambi': 954,\n",
       " 'sostituito': 955,\n",
       " 'altro': 956,\n",
       " 'imbecille': 957,\n",
       " 'colombiagiappone': 958,\n",
       " 'russia2018worldcup': 959,\n",
       " 'soldi': 960,\n",
       " 'palloni': 961,\n",
       " 'renderti': 962,\n",
       " 'd10s': 963,\n",
       " 'pibe': 964,\n",
       " 'diego': 965,\n",
       " 'facci': 966,\n",
       " 'pensata': 967,\n",
       " 'costa': 968,\n",
       " 'arrivato': 969,\n",
       " 'corte': 970,\n",
       " 'fakevarriale': 971,\n",
       " 'disposizione': 972,\n",
       " 'cinque': 973,\n",
       " 'partite': 974,\n",
       " 'rimettersi': 975,\n",
       " 'pari': 976,\n",
       " 'ninjagladiatore': 977,\n",
       " 'dli': 978,\n",
       " '22': 979,\n",
       " 'sentite': 980,\n",
       " 'cazzate': 981,\n",
       " 'sola': 982,\n",
       " 'gobbi': 983,\n",
       " 'incalliti': 984,\n",
       " 'rosicamento': 985,\n",
       " 'capirli': 986,\n",
       " 'basterebbe': 987,\n",
       " 'camion': 988,\n",
       " 'gaviscon': 989,\n",
       " 'nata': 990,\n",
       " 'bimba': 991,\n",
       " 'brava': 992,\n",
       " 'mamma': 993,\n",
       " 'chissa': 994,\n",
       " 'papa': 995,\n",
       " 'curnutooo': 996,\n",
       " 'munnezz': 997,\n",
       " 'penalti': 998,\n",
       " 'jose': 999,\n",
       " ...}"
      ]
     },
     "execution_count": 21,
     "metadata": {},
     "output_type": "execute_result"
    }
   ],
   "source": [
    "vocab"
   ]
  },
  {
   "cell_type": "markdown",
   "metadata": {},
   "source": [
    "### One-hot encoding"
   ]
  },
  {
   "cell_type": "code",
   "execution_count": 22,
   "metadata": {},
   "outputs": [],
   "source": [
    "clean_text = re.sub(r'@[a-z0-9]+\\b', ' ', dati['tweet_text'][4].lower())\n",
    "clean_text = re.sub(r'[^a-zàáèéíìòóùú0-9]', ' ', clean_text)\n",
    "clean_text = re.sub(r'\\s+', ' ', clean_text).strip()\n",
    "clean_text = unidecode(clean_text)"
   ]
  },
  {
   "cell_type": "code",
   "execution_count": 23,
   "metadata": {},
   "outputs": [
    {
     "data": {
      "text/plain": [
       "'non ce posso pensa non giochiamo radjanonsitocca non facciamo paragoni con altri giocatori andati lui per roma e un altra cosa https t co rgscxanuqh'"
      ]
     },
     "execution_count": 23,
     "metadata": {},
     "output_type": "execute_result"
    }
   ],
   "source": [
    "clean_text"
   ]
  },
  {
   "cell_type": "code",
   "execution_count": 24,
   "metadata": {},
   "outputs": [],
   "source": [
    "splitted = clean_text.split()\n",
    "token_text = []\n",
    "for word in splitted:\n",
    "    token_text.append(vocab[word])"
   ]
  },
  {
   "cell_type": "code",
   "execution_count": 25,
   "metadata": {},
   "outputs": [
    {
     "ename": "KeyError",
     "evalue": "'terrapiatta'",
     "output_type": "error",
     "traceback": [
      "\u001b[0;31m---------------------------------------------------------------------------\u001b[0m",
      "\u001b[0;31mKeyError\u001b[0m                                  Traceback (most recent call last)",
      "\u001b[0;32m<ipython-input-25-c9ca353180c9>\u001b[0m in \u001b[0;36m<module>\u001b[0;34m\u001b[0m\n\u001b[0;32m----> 1\u001b[0;31m \u001b[0mvocab\u001b[0m\u001b[0;34m[\u001b[0m\u001b[0;34m'terrapiatta'\u001b[0m\u001b[0;34m]\u001b[0m\u001b[0;34m\u001b[0m\u001b[0;34m\u001b[0m\u001b[0m\n\u001b[0m",
      "\u001b[0;31mKeyError\u001b[0m: 'terrapiatta'"
     ]
    }
   ],
   "source": [
    "vocab['terrapiatta']"
   ]
  },
  {
   "cell_type": "code",
   "execution_count": 28,
   "metadata": {},
   "outputs": [
    {
     "data": {
      "text/plain": [
       "True"
      ]
     },
     "execution_count": 28,
     "metadata": {},
     "output_type": "execute_result"
    }
   ],
   "source": [
    "vocab.get('terrapiatta') == None"
   ]
  },
  {
   "cell_type": "code",
   "execution_count": 29,
   "metadata": {},
   "outputs": [],
   "source": [
    "splitted = clean_text.split()\n",
    "token_text = []\n",
    "for word in splitted:\n",
    "    token_text.append(vocab.get(word, 0))"
   ]
  },
  {
   "cell_type": "code",
   "execution_count": 30,
   "metadata": {},
   "outputs": [
    {
     "data": {
      "text/plain": [
       "'31 32 33 34 31 35 36 31 37 38 6 39 40 41 42 21 43 44 45 46 47 48 49 50 51'"
      ]
     },
     "execution_count": 30,
     "metadata": {},
     "output_type": "execute_result"
    }
   ],
   "source": [
    "' '.join(str(token) for token in token_text)"
   ]
  },
  {
   "cell_type": "code",
   "execution_count": 31,
   "metadata": {},
   "outputs": [],
   "source": [
    "token_text = [vocab.get(word, 0) for word in clean_text.split()]"
   ]
  },
  {
   "cell_type": "code",
   "execution_count": 32,
   "metadata": {},
   "outputs": [
    {
     "data": {
      "text/plain": [
       "'31 32 33 34 31 35 36 31 37 38 6 39 40 41 42 21 43 44 45 46 47 48 49 50 51'"
      ]
     },
     "execution_count": 32,
     "metadata": {},
     "output_type": "execute_result"
    }
   ],
   "source": [
    "' '.join(str(token) for token in token_text)"
   ]
  },
  {
   "cell_type": "code",
   "execution_count": 33,
   "metadata": {},
   "outputs": [],
   "source": [
    "torch_text = torch.zeros((len(token_text), len(vocab)))"
   ]
  },
  {
   "cell_type": "code",
   "execution_count": 34,
   "metadata": {},
   "outputs": [
    {
     "data": {
      "text/plain": [
       "torch.Size([25, 111053])"
      ]
     },
     "execution_count": 34,
     "metadata": {},
     "output_type": "execute_result"
    }
   ],
   "source": [
    "torch_text.shape"
   ]
  },
  {
   "cell_type": "code",
   "execution_count": 35,
   "metadata": {},
   "outputs": [],
   "source": [
    "for row, token in zip(torch_text, token_text):\n",
    "    row[token] = 1.0"
   ]
  },
  {
   "cell_type": "code",
   "execution_count": 36,
   "metadata": {},
   "outputs": [
    {
     "data": {
      "text/plain": [
       "tensor([0., 1., 0., 0., 0., 0., 0., 0., 0., 0.])"
      ]
     },
     "execution_count": 36,
     "metadata": {},
     "output_type": "execute_result"
    }
   ],
   "source": [
    "torch_text[0, 30:40]"
   ]
  },
  {
   "cell_type": "code",
   "execution_count": 37,
   "metadata": {},
   "outputs": [],
   "source": [
    "testi = ['Il gatto e nero', 'Il cane mangia','Davide mangia il porco con il pane']"
   ]
  },
  {
   "cell_type": "code",
   "execution_count": 38,
   "metadata": {},
   "outputs": [],
   "source": [
    "v = {}\n",
    "for testo in testi:\n",
    "    for parola in testo.split():\n",
    "        if parola not in v:\n",
    "            v.update({parola: len(v)})"
   ]
  },
  {
   "cell_type": "code",
   "execution_count": 39,
   "metadata": {},
   "outputs": [
    {
     "data": {
      "text/plain": [
       "{'Il': 0,\n",
       " 'gatto': 1,\n",
       " 'e': 2,\n",
       " 'nero': 3,\n",
       " 'cane': 4,\n",
       " 'mangia': 5,\n",
       " 'Davide': 6,\n",
       " 'il': 7,\n",
       " 'porco': 8,\n",
       " 'con': 9,\n",
       " 'pane': 10}"
      ]
     },
     "execution_count": 39,
     "metadata": {},
     "output_type": "execute_result"
    }
   ],
   "source": [
    "v"
   ]
  },
  {
   "cell_type": "code",
   "execution_count": 40,
   "metadata": {},
   "outputs": [],
   "source": [
    "token_testo = [[v[parola] for parola in testo.split()] for testo in testi]"
   ]
  },
  {
   "cell_type": "code",
   "execution_count": 41,
   "metadata": {},
   "outputs": [
    {
     "data": {
      "text/plain": [
       "[[0, 1, 2, 3], [0, 4, 5], [6, 5, 7, 8, 9, 7, 10]]"
      ]
     },
     "execution_count": 41,
     "metadata": {},
     "output_type": "execute_result"
    }
   ],
   "source": [
    "token_testo"
   ]
  },
  {
   "cell_type": "code",
   "execution_count": 42,
   "metadata": {},
   "outputs": [
    {
     "data": {
      "text/plain": [
       "tensor([[0., 0., 0., 0., 0., 0., 0., 0., 0., 0., 0.],\n",
       "        [0., 0., 0., 0., 0., 0., 0., 0., 0., 0., 0.],\n",
       "        [0., 0., 0., 0., 0., 0., 0., 0., 0., 0., 0.],\n",
       "        [0., 0., 0., 0., 0., 0., 0., 0., 0., 0., 0.]])"
      ]
     },
     "execution_count": 42,
     "metadata": {},
     "output_type": "execute_result"
    }
   ],
   "source": [
    "torch_testo = torch.zeros((len(token_testo[0]), len(v)))\n",
    "torch_testo"
   ]
  },
  {
   "cell_type": "code",
   "execution_count": 43,
   "metadata": {},
   "outputs": [
    {
     "data": {
      "text/plain": [
       "tensor([[1., 0., 0., 0., 0., 0., 0., 0., 0., 0., 0.],\n",
       "        [0., 1., 0., 0., 0., 0., 0., 0., 0., 0., 0.],\n",
       "        [0., 0., 1., 0., 0., 0., 0., 0., 0., 0., 0.],\n",
       "        [0., 0., 0., 1., 0., 0., 0., 0., 0., 0., 0.]])"
      ]
     },
     "execution_count": 43,
     "metadata": {},
     "output_type": "execute_result"
    }
   ],
   "source": [
    "for riga, token in zip(torch_testo, token_testo[0]):\n",
    "    riga[token] = 1.0\n",
    "torch_testo"
   ]
  },
  {
   "cell_type": "code",
   "execution_count": 44,
   "metadata": {},
   "outputs": [
    {
     "data": {
      "text/plain": [
       "11105356"
      ]
     },
     "execution_count": 44,
     "metadata": {},
     "output_type": "execute_result"
    }
   ],
   "source": [
    "sys.getsizeof(torch_text.storage())"
   ]
  },
  {
   "cell_type": "markdown",
   "metadata": {},
   "source": [
    "### Bag of Words"
   ]
  },
  {
   "cell_type": "markdown",
   "metadata": {},
   "source": [
    "Invece di usare un indice per ogni parola, si usa il conteggio della parola nel testo. Esempio <a>https://scikit-learn.org/stable/modules/generated/sklearn.feature_extraction.text.CountVectorizer.html?highlight=countvectorizer#sklearn.feature_extraction.text.CountVectorizer</a>"
   ]
  },
  {
   "cell_type": "markdown",
   "metadata": {},
   "source": [
    "### Embedding"
   ]
  },
  {
   "cell_type": "code",
   "execution_count": 45,
   "metadata": {},
   "outputs": [
    {
     "data": {
      "text/plain": [
       "torch.nn.modules.sparse.Embedding"
      ]
     },
     "execution_count": 45,
     "metadata": {},
     "output_type": "execute_result"
    }
   ],
   "source": [
    "torch.nn.Embedding"
   ]
  },
  {
   "cell_type": "code",
   "execution_count": null,
   "metadata": {},
   "outputs": [],
   "source": []
  },
  {
   "cell_type": "code",
   "execution_count": null,
   "metadata": {},
   "outputs": [],
   "source": []
  }
 ],
 "metadata": {
  "kernelspec": {
   "display_name": "Python 3",
   "language": "python",
   "name": "python3"
  },
  "language_info": {
   "codemirror_mode": {
    "name": "ipython",
    "version": 3
   },
   "file_extension": ".py",
   "mimetype": "text/x-python",
   "name": "python",
   "nbconvert_exporter": "python",
   "pygments_lexer": "ipython3",
   "version": "3.9.1"
  }
 },
 "nbformat": 4,
 "nbformat_minor": 4
}
